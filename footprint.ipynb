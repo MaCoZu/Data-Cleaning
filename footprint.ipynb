{
 "cells": [
  {
   "cell_type": "code",
   "execution_count": 1,
   "metadata": {},
   "outputs": [],
   "source": [
    "import pandas as pd"
   ]
  },
  {
   "cell_type": "code",
   "execution_count": 14,
   "metadata": {},
   "outputs": [
    {
     "data": {
      "text/html": [
       "<div>\n",
       "<style scoped>\n",
       "    .dataframe tbody tr th:only-of-type {\n",
       "        vertical-align: middle;\n",
       "    }\n",
       "\n",
       "    .dataframe tbody tr th {\n",
       "        vertical-align: top;\n",
       "    }\n",
       "\n",
       "    .dataframe thead th {\n",
       "        text-align: right;\n",
       "    }\n",
       "</style>\n",
       "<table border=\"1\" class=\"dataframe\">\n",
       "  <thead>\n",
       "    <tr style=\"text-align: right;\">\n",
       "      <th></th>\n",
       "      <th>Country</th>\n",
       "      <th>Data Quality</th>\n",
       "      <th>SDGi</th>\n",
       "      <th>Life Exectancy</th>\n",
       "      <th>HDI</th>\n",
       "      <th>Per Capita GDP</th>\n",
       "      <th>Region</th>\n",
       "      <th>Income Group</th>\n",
       "      <th>Population (millions)</th>\n",
       "      <th>Number of Earths required</th>\n",
       "    </tr>\n",
       "  </thead>\n",
       "  <tbody>\n",
       "    <tr>\n",
       "      <th>0</th>\n",
       "      <td>Afghanistan</td>\n",
       "      <td>3A</td>\n",
       "      <td>52.5</td>\n",
       "      <td>62</td>\n",
       "      <td>0.48</td>\n",
       "      <td>NaN</td>\n",
       "      <td>Middle East/Central Asia</td>\n",
       "      <td>LI</td>\n",
       "      <td>40.8</td>\n",
       "      <td>0.5</td>\n",
       "    </tr>\n",
       "    <tr>\n",
       "      <th>1</th>\n",
       "      <td>Albania</td>\n",
       "      <td>3A</td>\n",
       "      <td>71.6</td>\n",
       "      <td>76</td>\n",
       "      <td>0.80</td>\n",
       "      <td>$14,889</td>\n",
       "      <td>Other Europe</td>\n",
       "      <td>UM</td>\n",
       "      <td>2.9</td>\n",
       "      <td>1.4</td>\n",
       "    </tr>\n",
       "    <tr>\n",
       "      <th>2</th>\n",
       "      <td>Algeria</td>\n",
       "      <td>3A</td>\n",
       "      <td>71.5</td>\n",
       "      <td>76</td>\n",
       "      <td>0.75</td>\n",
       "      <td>$11,137</td>\n",
       "      <td>Africa</td>\n",
       "      <td>UM</td>\n",
       "      <td>45.4</td>\n",
       "      <td>1.5</td>\n",
       "    </tr>\n",
       "    <tr>\n",
       "      <th>3</th>\n",
       "      <td>Angola</td>\n",
       "      <td>3A</td>\n",
       "      <td>50.9</td>\n",
       "      <td>62</td>\n",
       "      <td>0.59</td>\n",
       "      <td>$6,304</td>\n",
       "      <td>Africa</td>\n",
       "      <td>LM</td>\n",
       "      <td>35.0</td>\n",
       "      <td>0.6</td>\n",
       "    </tr>\n",
       "    <tr>\n",
       "      <th>4</th>\n",
       "      <td>Antigua and Barbuda</td>\n",
       "      <td>2B</td>\n",
       "      <td>NaN</td>\n",
       "      <td>78</td>\n",
       "      <td>0.79</td>\n",
       "      <td>$18,749</td>\n",
       "      <td>Central America/Caribbean</td>\n",
       "      <td>HI</td>\n",
       "      <td>0.1</td>\n",
       "      <td>1.9</td>\n",
       "    </tr>\n",
       "  </tbody>\n",
       "</table>\n",
       "</div>"
      ],
      "text/plain": [
       "               Country Data Quality  SDGi Life Exectancy   HDI Per Capita GDP  \\\n",
       "0          Afghanistan           3A  52.5             62  0.48            NaN   \n",
       "1              Albania           3A  71.6             76  0.80        $14,889   \n",
       "2              Algeria           3A  71.5             76  0.75        $11,137   \n",
       "3               Angola           3A  50.9             62  0.59         $6,304   \n",
       "4  Antigua and Barbuda           2B   NaN             78  0.79        $18,749   \n",
       "\n",
       "                      Region Income Group Population (millions)  \\\n",
       "0   Middle East/Central Asia           LI                 40.8    \n",
       "1               Other Europe           UM                  2.9    \n",
       "2                     Africa           UM                 45.4    \n",
       "3                     Africa           LM                 35.0    \n",
       "4  Central America/Caribbean           HI                  0.1    \n",
       "\n",
       "   Number of Earths required  \n",
       "0                        0.5  \n",
       "1                        1.4  \n",
       "2                        1.5  \n",
       "3                        0.6  \n",
       "4                        1.9  "
      ]
     },
     "execution_count": 14,
     "metadata": {},
     "output_type": "execute_result"
    }
   ],
   "source": [
    "data = pd.read_csv(\"../data/footprint.CSV\", encoding='latin-1')\n",
    "data.head()"
   ]
  },
  {
   "cell_type": "code",
   "execution_count": 15,
   "metadata": {},
   "outputs": [
    {
     "data": {
      "text/plain": [
       "Index(['Country', 'Data Quality', 'SDGi', 'Life Exectancy', 'HDI',\n",
       "       'Per Capita GDP', 'Region', 'Income Group', 'Population (millions)',\n",
       "       'Number of Earths required'],\n",
       "      dtype='object')"
      ]
     },
     "execution_count": 15,
     "metadata": {},
     "output_type": "execute_result"
    }
   ],
   "source": [
    "data.columns"
   ]
  },
  {
   "cell_type": "markdown",
   "metadata": {},
   "source": [
    "# Remove $"
   ]
  },
  {
   "cell_type": "code",
   "execution_count": 16,
   "metadata": {},
   "outputs": [],
   "source": [
    "# Remove the dollar signs and convert the column to float\n",
    "# Remove the dollar signs, commas, and spaces, and convert to numeric\n",
    "data[\"Per Capita GDP\"] = data[\"Per Capita GDP\"].str.replace('$', '', regex=False) \\\n",
    "                         .str.replace(',', '', regex=False) \\\n",
    "                         .str.strip()"
   ]
  },
  {
   "cell_type": "code",
   "execution_count": 17,
   "metadata": {},
   "outputs": [
    {
     "data": {
      "text/html": [
       "<div>\n",
       "<style scoped>\n",
       "    .dataframe tbody tr th:only-of-type {\n",
       "        vertical-align: middle;\n",
       "    }\n",
       "\n",
       "    .dataframe tbody tr th {\n",
       "        vertical-align: top;\n",
       "    }\n",
       "\n",
       "    .dataframe thead th {\n",
       "        text-align: right;\n",
       "    }\n",
       "</style>\n",
       "<table border=\"1\" class=\"dataframe\">\n",
       "  <thead>\n",
       "    <tr style=\"text-align: right;\">\n",
       "      <th></th>\n",
       "      <th>Country</th>\n",
       "      <th>Data Quality</th>\n",
       "      <th>SDGi</th>\n",
       "      <th>Life Exectancy</th>\n",
       "      <th>HDI</th>\n",
       "      <th>Per Capita GDP</th>\n",
       "      <th>Region</th>\n",
       "      <th>Income Group</th>\n",
       "      <th>Population (millions)</th>\n",
       "      <th>Number of Earths required</th>\n",
       "    </tr>\n",
       "  </thead>\n",
       "  <tbody>\n",
       "    <tr>\n",
       "      <th>0</th>\n",
       "      <td>Afghanistan</td>\n",
       "      <td>3A</td>\n",
       "      <td>52.5</td>\n",
       "      <td>62</td>\n",
       "      <td>0.48</td>\n",
       "      <td>NaN</td>\n",
       "      <td>Middle East/Central Asia</td>\n",
       "      <td>LI</td>\n",
       "      <td>40.8</td>\n",
       "      <td>0.5</td>\n",
       "    </tr>\n",
       "    <tr>\n",
       "      <th>1</th>\n",
       "      <td>Albania</td>\n",
       "      <td>3A</td>\n",
       "      <td>71.6</td>\n",
       "      <td>76</td>\n",
       "      <td>0.80</td>\n",
       "      <td>14889</td>\n",
       "      <td>Other Europe</td>\n",
       "      <td>UM</td>\n",
       "      <td>2.9</td>\n",
       "      <td>1.4</td>\n",
       "    </tr>\n",
       "  </tbody>\n",
       "</table>\n",
       "</div>"
      ],
      "text/plain": [
       "       Country Data Quality  SDGi Life Exectancy   HDI Per Capita GDP  \\\n",
       "0  Afghanistan           3A  52.5             62  0.48            NaN   \n",
       "1      Albania           3A  71.6             76  0.80          14889   \n",
       "\n",
       "                     Region Income Group Population (millions)  \\\n",
       "0  Middle East/Central Asia           LI                 40.8    \n",
       "1              Other Europe           UM                  2.9    \n",
       "\n",
       "   Number of Earths required  \n",
       "0                        0.5  \n",
       "1                        1.4  "
      ]
     },
     "execution_count": 17,
     "metadata": {},
     "output_type": "execute_result"
    }
   ],
   "source": [
    "data[:2]"
   ]
  },
  {
   "cell_type": "markdown",
   "metadata": {},
   "source": [
    "# Data types"
   ]
  },
  {
   "cell_type": "code",
   "execution_count": 18,
   "metadata": {},
   "outputs": [
    {
     "data": {
      "text/plain": [
       "Country                       object\n",
       "Data Quality                  object\n",
       "SDGi                          object\n",
       "Life Exectancy                object\n",
       "HDI                           object\n",
       "Per Capita GDP                object\n",
       "Region                        object\n",
       "Income Group                  object\n",
       "Population (millions)         object\n",
       "Number of Earths required    float64\n",
       "dtype: object"
      ]
     },
     "execution_count": 18,
     "metadata": {},
     "output_type": "execute_result"
    }
   ],
   "source": [
    "data.dtypes"
   ]
  },
  {
   "cell_type": "code",
   "execution_count": 19,
   "metadata": {},
   "outputs": [],
   "source": [
    "data[[\"SDGi\", \"Life Exectancy\", \"HDI\", \"Per Capita GDP\", \"Population (millions)\", \"Number of Earths required\" ]] = data[[\"SDGi\", \"Life Exectancy\", \"HDI\", \"Per Capita GDP\", \"Population (millions)\", \"Number of Earths required\" ]].apply(pd.to_numeric, errors='coerce')"
   ]
  },
  {
   "cell_type": "code",
   "execution_count": 20,
   "metadata": {},
   "outputs": [],
   "source": [
    "data[[\"Data Quality\", \"Region\", \"Income Group\"]] = data[[\"Data Quality\", \"Region\", \"Income Group\"]].astype('category')\n",
    "data[[\"Country\"]] = data[[\"Country\"]].astype('str')"
   ]
  },
  {
   "cell_type": "code",
   "execution_count": 21,
   "metadata": {},
   "outputs": [
    {
     "data": {
      "text/plain": [
       "Country                        object\n",
       "Data Quality                 category\n",
       "SDGi                          float64\n",
       "Life Exectancy                float64\n",
       "HDI                           float64\n",
       "Per Capita GDP                float64\n",
       "Region                       category\n",
       "Income Group                 category\n",
       "Population (millions)         float64\n",
       "Number of Earths required     float64\n",
       "dtype: object"
      ]
     },
     "execution_count": 21,
     "metadata": {},
     "output_type": "execute_result"
    }
   ],
   "source": [
    "data.dtypes"
   ]
  },
  {
   "cell_type": "markdown",
   "metadata": {},
   "source": [
    "# Save csv"
   ]
  },
  {
   "cell_type": "code",
   "execution_count": 22,
   "metadata": {},
   "outputs": [],
   "source": [
    "data.to_csv(\"footprint_clean.csv\", encoding='utf-8')"
   ]
  },
  {
   "cell_type": "code",
   "execution_count": 23,
   "metadata": {},
   "outputs": [
    {
     "name": "stdout",
     "output_type": "stream",
     "text": [
      "<class 'pandas.core.frame.DataFrame'>\n",
      "RangeIndex: 182 entries, 0 to 181\n",
      "Data columns (total 10 columns):\n",
      " #   Column                     Non-Null Count  Dtype   \n",
      "---  ------                     --------------  -----   \n",
      " 0   Country                    182 non-null    object  \n",
      " 1   Data Quality               182 non-null    category\n",
      " 2   SDGi                       158 non-null    float64 \n",
      " 3   Life Exectancy             175 non-null    float64 \n",
      " 4   HDI                        171 non-null    float64 \n",
      " 5   Per Capita GDP             163 non-null    float64 \n",
      " 6   Region                     182 non-null    category\n",
      " 7   Income Group               178 non-null    category\n",
      " 8   Population (millions)      180 non-null    float64 \n",
      " 9   Number of Earths required  181 non-null    float64 \n",
      "dtypes: category(3), float64(6), object(1)\n",
      "memory usage: 11.5+ KB\n"
     ]
    }
   ],
   "source": [
    "data.info()"
   ]
  },
  {
   "cell_type": "markdown",
   "metadata": {},
   "source": [
    "# Regions ?"
   ]
  },
  {
   "cell_type": "code",
   "execution_count": 24,
   "metadata": {},
   "outputs": [
    {
     "data": {
      "text/plain": [
       "['Middle East/Central Asia', 'Other Europe', 'Africa', 'Central America/Caribbean', 'South America', 'Asia-Pacific', 'EU-27', 'North America']\n",
       "Categories (8, object): ['Africa', 'Asia-Pacific', 'Central America/Caribbean', 'EU-27', 'Middle East/Central Asia', 'North America', 'Other Europe', 'South America']"
      ]
     },
     "execution_count": 24,
     "metadata": {},
     "output_type": "execute_result"
    }
   ],
   "source": [
    "data.loc[(data['Region'] == 'Europe')]\n",
    "data.Region.unique()"
   ]
  },
  {
   "cell_type": "code",
   "execution_count": 25,
   "metadata": {},
   "outputs": [
    {
     "data": {
      "text/plain": [
       "Region\n",
       "Africa                       53\n",
       "Asia-Pacific                 30\n",
       "Central America/Caribbean    20\n",
       "EU-27                        26\n",
       "Middle East/Central Asia     23\n",
       "North America                 4\n",
       "Other Europe                 13\n",
       "South America                13\n",
       "dtype: int64"
      ]
     },
     "execution_count": 25,
     "metadata": {},
     "output_type": "execute_result"
    }
   ],
   "source": [
    "data.groupby('Region', observed=False).size()"
   ]
  },
  {
   "cell_type": "markdown",
   "metadata": {},
   "source": [
    "# Countries with missing data"
   ]
  },
  {
   "cell_type": "code",
   "execution_count": 48,
   "metadata": {},
   "outputs": [
    {
     "data": {
      "text/html": [
       "<div>\n",
       "<style scoped>\n",
       "    .dataframe tbody tr th:only-of-type {\n",
       "        vertical-align: middle;\n",
       "    }\n",
       "\n",
       "    .dataframe tbody tr th {\n",
       "        vertical-align: top;\n",
       "    }\n",
       "\n",
       "    .dataframe thead th {\n",
       "        text-align: right;\n",
       "    }\n",
       "</style>\n",
       "<table border=\"1\" class=\"dataframe\">\n",
       "  <thead>\n",
       "    <tr style=\"text-align: right;\">\n",
       "      <th></th>\n",
       "      <th>Country</th>\n",
       "      <th>Data Quality</th>\n",
       "      <th>SDGi</th>\n",
       "      <th>Life Exectancy</th>\n",
       "      <th>HDI</th>\n",
       "      <th>Per Capita GDP</th>\n",
       "      <th>Region</th>\n",
       "      <th>Income Group</th>\n",
       "      <th>Population (millions)</th>\n",
       "      <th>Number of Earths required</th>\n",
       "    </tr>\n",
       "  </thead>\n",
       "  <tbody>\n",
       "    <tr>\n",
       "      <th>89</th>\n",
       "      <td>Korea, Democratic People's Republic of</td>\n",
       "      <td>3A</td>\n",
       "      <td>NaN</td>\n",
       "      <td>73.0</td>\n",
       "      <td>NaN</td>\n",
       "      <td>NaN</td>\n",
       "      <td>Asia-Pacific</td>\n",
       "      <td>LI</td>\n",
       "      <td>26.0</td>\n",
       "      <td>0.8</td>\n",
       "    </tr>\n",
       "  </tbody>\n",
       "</table>\n",
       "</div>"
      ],
      "text/plain": [
       "                                   Country Data Quality  SDGi  Life Exectancy  \\\n",
       "89  Korea, Democratic People's Republic of           3A   NaN            73.0   \n",
       "\n",
       "    HDI  Per Capita GDP        Region Income Group  Population (millions)  \\\n",
       "89  NaN             NaN  Asia-Pacific           LI                   26.0   \n",
       "\n",
       "    Number of Earths required  \n",
       "89                        0.8  "
      ]
     },
     "execution_count": 48,
     "metadata": {},
     "output_type": "execute_result"
    }
   ],
   "source": []
  },
  {
   "cell_type": "code",
   "execution_count": 53,
   "metadata": {},
   "outputs": [
    {
     "data": {
      "text/html": [
       "<div>\n",
       "<style scoped>\n",
       "    .dataframe tbody tr th:only-of-type {\n",
       "        vertical-align: middle;\n",
       "    }\n",
       "\n",
       "    .dataframe tbody tr th {\n",
       "        vertical-align: top;\n",
       "    }\n",
       "\n",
       "    .dataframe thead th {\n",
       "        text-align: right;\n",
       "    }\n",
       "</style>\n",
       "<table border=\"1\" class=\"dataframe\">\n",
       "  <thead>\n",
       "    <tr style=\"text-align: right;\">\n",
       "      <th></th>\n",
       "      <th>Country</th>\n",
       "      <th>Number of Earths required</th>\n",
       "    </tr>\n",
       "  </thead>\n",
       "  <tbody>\n",
       "    <tr>\n",
       "      <th>40</th>\n",
       "      <td>Côte d'Ivoire</td>\n",
       "      <td>0.6</td>\n",
       "    </tr>\n",
       "    <tr>\n",
       "      <th>150</th>\n",
       "      <td>Somalia</td>\n",
       "      <td>0.6</td>\n",
       "    </tr>\n",
       "    <tr>\n",
       "      <th>181</th>\n",
       "      <td>Zimbabwe</td>\n",
       "      <td>0.7</td>\n",
       "    </tr>\n",
       "    <tr>\n",
       "      <th>89</th>\n",
       "      <td>Korea, Democratic People's Republic of</td>\n",
       "      <td>0.8</td>\n",
       "    </tr>\n",
       "    <tr>\n",
       "      <th>180</th>\n",
       "      <td>Zambia</td>\n",
       "      <td>0.8</td>\n",
       "    </tr>\n",
       "    <tr>\n",
       "      <th>60</th>\n",
       "      <td>French Guiana</td>\n",
       "      <td>1.0</td>\n",
       "    </tr>\n",
       "    <tr>\n",
       "      <th>105</th>\n",
       "      <td>Martinique</td>\n",
       "      <td>2.3</td>\n",
       "    </tr>\n",
       "    <tr>\n",
       "      <th>69</th>\n",
       "      <td>Guadeloupe</td>\n",
       "      <td>2.3</td>\n",
       "    </tr>\n",
       "    <tr>\n",
       "      <th>134</th>\n",
       "      <td>Réunion</td>\n",
       "      <td>2.3</td>\n",
       "    </tr>\n",
       "    <tr>\n",
       "      <th>61</th>\n",
       "      <td>French Polynesia</td>\n",
       "      <td>2.5</td>\n",
       "    </tr>\n",
       "    <tr>\n",
       "      <th>17</th>\n",
       "      <td>Bermuda</td>\n",
       "      <td>NaN</td>\n",
       "    </tr>\n",
       "  </tbody>\n",
       "</table>\n",
       "</div>"
      ],
      "text/plain": [
       "                                    Country  Number of Earths required\n",
       "40                            Côte d'Ivoire                        0.6\n",
       "150                                 Somalia                        0.6\n",
       "181                                Zimbabwe                        0.7\n",
       "89   Korea, Democratic People's Republic of                        0.8\n",
       "180                                  Zambia                        0.8\n",
       "60                            French Guiana                        1.0\n",
       "105                              Martinique                        2.3\n",
       "69                               Guadeloupe                        2.3\n",
       "134                                 Réunion                        2.3\n",
       "61                         French Polynesia                        2.5\n",
       "17                                  Bermuda                        NaN"
      ]
     },
     "execution_count": 53,
     "metadata": {},
     "output_type": "execute_result"
    }
   ],
   "source": [
    "data.loc[data.isnull().any(axis=1)]\n",
    "data.loc[data.Country == \"Korea, Democratic People's Republic of\"]\n",
    "list(data.loc[(data['HDI'].isnull())]['Country'])\n",
    "data.loc[(data['HDI'].isnull())][['Country', 'Number of Earths required']].sort_values('Number of Earths required')"
   ]
  },
  {
   "cell_type": "code",
   "execution_count": 56,
   "metadata": {},
   "outputs": [
    {
     "data": {
      "text/plain": [
       "np.float64(0.40393569183015626)"
      ]
     },
     "execution_count": 56,
     "metadata": {},
     "output_type": "execute_result"
    }
   ],
   "source": [
    "# How many are just sustainable\n",
    "data.loc[(data['Number of Earths required'] <= 1)][\"Population (millions)\"].sum()\n",
    "\n",
    "# Just sustainable people as %\n",
    "\n",
    "# # of countries that are sustainable\n",
    "data.loc[(data['Number of Earths required']<=1)].count()\n",
    "data.loc[(data['Number of Earths required'] <= 1)][\"Population (millions)\"].sum() / data['Population (millions)'].sum()"
   ]
  },
  {
   "cell_type": "markdown",
   "metadata": {},
   "source": [
    "# Who's sustainable and developed"
   ]
  },
  {
   "cell_type": "code",
   "execution_count": 149,
   "metadata": {},
   "outputs": [
    {
     "data": {
      "text/plain": [
       "np.float64(0.026363961956305457)"
      ]
     },
     "execution_count": 149,
     "metadata": {},
     "output_type": "execute_result"
    }
   ],
   "source": [
    "# suatainable and developed countries\n",
    "data.loc[(data['HDI'] > 0.7) & (data['Number of Earths required'] <= 1)]\n",
    "\n",
    "# In population  numbers\n",
    "data.loc[(data['HDI'] > 0.7) & (data['Number of Earths required'] <= 1)]['Population (millions)'].sum()\n",
    "\n",
    "# Suatainable and developed people as percentage\n",
    "data.loc[(data['HDI'] > 0.7) & (data['Number of Earths required'] <= 1)]['Population (millions)'].sum() / data['Population (millions)'].sum()"
   ]
  },
  {
   "cell_type": "code",
   "execution_count": 153,
   "metadata": {},
   "outputs": [
    {
     "data": {
      "text/plain": [
       "np.float64(0.5960444108400651)"
      ]
     },
     "execution_count": 153,
     "metadata": {},
     "output_type": "execute_result"
    }
   ],
   "source": [
    "# Unsustainable world population %\n",
    "data.loc[(data['Number of Earths required'] > 1)][\"Population (millions)\"].sum() / data['Population (millions)'].sum()"
   ]
  },
  {
   "cell_type": "code",
   "execution_count": 57,
   "metadata": {},
   "outputs": [
    {
     "data": {
      "text/html": [
       "<div>\n",
       "<style scoped>\n",
       "    .dataframe tbody tr th:only-of-type {\n",
       "        vertical-align: middle;\n",
       "    }\n",
       "\n",
       "    .dataframe tbody tr th {\n",
       "        vertical-align: top;\n",
       "    }\n",
       "\n",
       "    .dataframe thead th {\n",
       "        text-align: right;\n",
       "    }\n",
       "</style>\n",
       "<table border=\"1\" class=\"dataframe\">\n",
       "  <thead>\n",
       "    <tr style=\"text-align: right;\">\n",
       "      <th></th>\n",
       "      <th>Country</th>\n",
       "      <th>Data Quality</th>\n",
       "      <th>SDGi</th>\n",
       "      <th>Life Exectancy</th>\n",
       "      <th>HDI</th>\n",
       "      <th>Per Capita GDP</th>\n",
       "      <th>Region</th>\n",
       "      <th>Income Group</th>\n",
       "      <th>Population (millions)</th>\n",
       "      <th>Number of Earths required</th>\n",
       "    </tr>\n",
       "  </thead>\n",
       "  <tbody>\n",
       "    <tr>\n",
       "      <th>132</th>\n",
       "      <td>Republic of Moldova</td>\n",
       "      <td>2B</td>\n",
       "      <td>73.9</td>\n",
       "      <td>69.0</td>\n",
       "      <td>0.77</td>\n",
       "      <td>14320.0</td>\n",
       "      <td>Other Europe</td>\n",
       "      <td>LM</td>\n",
       "      <td>4.0</td>\n",
       "      <td>1.0</td>\n",
       "    </tr>\n",
       "    <tr>\n",
       "      <th>50</th>\n",
       "      <td>Egypt</td>\n",
       "      <td>2B</td>\n",
       "      <td>68.7</td>\n",
       "      <td>70.0</td>\n",
       "      <td>0.73</td>\n",
       "      <td>12786.0</td>\n",
       "      <td>Africa</td>\n",
       "      <td>LM</td>\n",
       "      <td>106.2</td>\n",
       "      <td>1.0</td>\n",
       "    </tr>\n",
       "    <tr>\n",
       "      <th>166</th>\n",
       "      <td>Tunisia</td>\n",
       "      <td>2A</td>\n",
       "      <td>70.7</td>\n",
       "      <td>74.0</td>\n",
       "      <td>0.73</td>\n",
       "      <td>10535.0</td>\n",
       "      <td>Africa</td>\n",
       "      <td>UM</td>\n",
       "      <td>12.0</td>\n",
       "      <td>0.9</td>\n",
       "    </tr>\n",
       "    <tr>\n",
       "      <th>86</th>\n",
       "      <td>Jordan</td>\n",
       "      <td>2A</td>\n",
       "      <td>69.4</td>\n",
       "      <td>74.0</td>\n",
       "      <td>0.72</td>\n",
       "      <td>10159.0</td>\n",
       "      <td>Middle East/Central Asia</td>\n",
       "      <td>UM</td>\n",
       "      <td>10.3</td>\n",
       "      <td>0.9</td>\n",
       "    </tr>\n",
       "    <tr>\n",
       "      <th>128</th>\n",
       "      <td>Philippines</td>\n",
       "      <td>3A</td>\n",
       "      <td>66.6</td>\n",
       "      <td>69.0</td>\n",
       "      <td>0.70</td>\n",
       "      <td>8768.0</td>\n",
       "      <td>Asia-Pacific</td>\n",
       "      <td>LM</td>\n",
       "      <td>112.5</td>\n",
       "      <td>0.8</td>\n",
       "    </tr>\n",
       "  </tbody>\n",
       "</table>\n",
       "</div>"
      ],
      "text/plain": [
       "                 Country Data Quality  SDGi  Life Exectancy   HDI  \\\n",
       "132  Republic of Moldova           2B  73.9            69.0  0.77   \n",
       "50                 Egypt           2B  68.7            70.0  0.73   \n",
       "166              Tunisia           2A  70.7            74.0  0.73   \n",
       "86                Jordan           2A  69.4            74.0  0.72   \n",
       "128          Philippines           3A  66.6            69.0  0.70   \n",
       "\n",
       "     Per Capita GDP                    Region Income Group  \\\n",
       "132         14320.0              Other Europe           LM   \n",
       "50          12786.0                    Africa           LM   \n",
       "166         10535.0                    Africa           UM   \n",
       "86          10159.0  Middle East/Central Asia           UM   \n",
       "128          8768.0              Asia-Pacific           LM   \n",
       "\n",
       "     Population (millions)  Number of Earths required  \n",
       "132                    4.0                        1.0  \n",
       "50                   106.2                        1.0  \n",
       "166                   12.0                        0.9  \n",
       "86                    10.3                        0.9  \n",
       "128                  112.5                        0.8  "
      ]
     },
     "execution_count": 57,
     "metadata": {},
     "output_type": "execute_result"
    }
   ],
   "source": [
    "# Sustainable countries sorted by HDI\n",
    "data.loc[(data['Number of Earths required'] <= 1)].sort_values(\"HDI\", ascending=False)[:5]"
   ]
  },
  {
   "cell_type": "code",
   "execution_count": 159,
   "metadata": {},
   "outputs": [
    {
     "data": {
      "text/plain": [
       "Region\n",
       "Africa                       39\n",
       "Asia-Pacific                 10\n",
       "Central America/Caribbean     3\n",
       "EU-27                         0\n",
       "Middle East/Central Asia      6\n",
       "North America                 0\n",
       "Other Europe                  1\n",
       "South America                 1\n",
       "dtype: int64"
      ]
     },
     "execution_count": 159,
     "metadata": {},
     "output_type": "execute_result"
    }
   ],
   "source": [
    "data.loc[(data['Number of Earths required'] <= 1)].groupby('Region', observed=False).size()"
   ]
  },
  {
   "cell_type": "code",
   "execution_count": 62,
   "metadata": {},
   "outputs": [
    {
     "data": {
      "text/plain": [
       "Income Group\n",
       "HI     0\n",
       "LI    34\n",
       "LM    23\n",
       "UM     2\n",
       "dtype: int64"
      ]
     },
     "execution_count": 62,
     "metadata": {},
     "output_type": "execute_result"
    }
   ],
   "source": [
    "data.loc[(data['Number of Earths required'] <= 1)].groupby('Income Group', observed=False).size()"
   ]
  },
  {
   "cell_type": "code",
   "execution_count": 55,
   "metadata": {},
   "outputs": [
    {
     "data": {
      "text/plain": [
       "50                   Egypt\n",
       "86                  Jordan\n",
       "132    Republic of Moldova\n",
       "166                Tunisia\n",
       "Name: Country, dtype: object"
      ]
     },
     "execution_count": 55,
     "metadata": {},
     "output_type": "execute_result"
    }
   ],
   "source": [
    "data.loc[(data['HDI'] > 0.7) & (data['Number of Earths required'] <= 1)]['Country']"
   ]
  },
  {
   "cell_type": "code",
   "execution_count": null,
   "metadata": {},
   "outputs": [],
   "source": []
  }
 ],
 "metadata": {
  "kernelspec": {
   "display_name": "Python 3",
   "language": "python",
   "name": "python3"
  },
  "language_info": {
   "codemirror_mode": {
    "name": "ipython",
    "version": 3
   },
   "file_extension": ".py",
   "mimetype": "text/x-python",
   "name": "python",
   "nbconvert_exporter": "python",
   "pygments_lexer": "ipython3",
   "version": "3.12.5"
  }
 },
 "nbformat": 4,
 "nbformat_minor": 2
}
