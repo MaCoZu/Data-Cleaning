{
 "cells": [
  {
   "cell_type": "markdown",
   "metadata": {},
   "source": [
    "https://github.com/jdepoix/youtube-transcript-api"
   ]
  },
  {
   "cell_type": "code",
   "execution_count": 1,
   "metadata": {},
   "outputs": [],
   "source": [
    "import re\n",
    "from youtube_transcript_api import YouTubeTranscriptApi\n",
    "from youtube_transcript_api.formatters import TextFormatter\n",
    "\n",
    "\n",
    "transcript = YouTubeTranscriptApi.get_transcript('N-7gbWKbXbQ')\n",
    "file_name = \"dracula_flow_3\""
   ]
  },
  {
   "cell_type": "code",
   "execution_count": 2,
   "metadata": {},
   "outputs": [
    {
     "name": "stdout",
     "output_type": "stream",
     "text": [
      "I'm moving different this [ __ ] ain't nothing to me man I'm a dog I'm biting the fart bubbles in the bath we smoke in symbiotes smoking that Whoopi Goldberg South Egyptian fur Burger Deluxe Mega Millions scratcher skunk Bubba Kush we smoking dung beetle I'm on 12 Vicodins smoking on Scooby-Doo dick we smoking Sequoia Banshee boogers we snorting that good Buffalo Soldier Tamara and Jordanian gibbies they must have amnesia they forgot that I'm him that Burberry Backwoods pack hitting that [ __ ] smell like a Hellcat V8 we smoking [ __ ] in a glass pipe blowing the Lord's bubbles I'm sick in the head I'm on them Broward County Tic Tacs I'm on them Georgetown geronimo's I'm on them Nashville nibblers I love my margielas in the Benz truck I'll have to stun on them next time I don't give a [ __ ] if I go blind I don't need to see the price tag anyway I'm high on 12 Jason Bourne's looking to beat the [ __ ] out of a thick fresh Oak we're smoking filtered crack you stupid piece of [ __ ] I'll [ __ ] kill you I'm gonna call that [ __ ] The Matrix cause I'm in this [ __ ] and I can't get out last guy who ran off on the pack got choked out by some Givenchy gloves the last thing he ever saw was the price tag on them slowly faded into darkness and I let the archangels take him yeah I need more Sequoia Banshee boogers don't be shy girl I love me some pastrami mud flaps I'm moving like French Montana huh welcome to the cream Kingdom [ __ ] open up Blac Chyna I drink her piss out of another man's balls my shooter a crackhead he looked like Woody Harrelson you ain't seen 10 bands in your life [ __ ] reach for my neck you'll get turned into an example y'all gotta stop playing with me man I threw diamonds at the strip clubs under the Great Pyramids I pushed the camel through the eye of a needle this [ __ ] ain't nothing to me man tied the UPS to the back of a trackhawk and dragged them around the block for 24 hours [ __ ] look like a Resident Evil have campaign extra after we was done with them Ops wanted some initiative blew up their entire quadrant I'm moving like Oppenheimer she dropped that ass on me from an aggregarious angle they thought I was Steven Wallace top shelf Zaza disrupted my circadian rhythm I have seen the Magna Carta I've seen the eye of horror I was flipping bricks for Manza Musa before y'all even became a type 1 civilization this [ __ ] ain't nothing to me you stupid piece of [ __ ] stepped the wrong way and you will perish that [ __ ] feel like Biscoff butter you think I care about this [ __ ] ask me if I care about this [ __ ] because I don't give a [ __ ] if I had a dollar for every time they said I gave a [ __ ] I'd be broke cause I don't give a [ __ ] my [ __ ] look like David Hasselhoff I balled so hard they thought I was a [ __ ] nut sack [ __ ] ain't nothing to me man I'll kill you you stupid piece of [ __ ]\n"
     ]
    }
   ],
   "source": [
    "formatter = TextFormatter()\n",
    "\n",
    "# .format_transcript(transcript) turns the transcript into a JSON string.\n",
    "txt_formatted = formatter.format_transcript(transcript)\n",
    "\n",
    "\n",
    "def clean_text(text):\n",
    "    # Remove hyphens followed by line breaks (used for word splitting across lines)\n",
    "    text = re.sub(r'-\\n', '', text)\n",
    "    # Remove single line breaks that are not part of paragraph breaks\n",
    "    text = re.sub(r'(?<!\\n)\\n(?!\\n)', ' ', text)\n",
    "    # Replace two or more spaces with a single space\n",
    "    text = re.sub(r' {2,}', ' ', text)\n",
    "    return text\n",
    "\n",
    "\n",
    "cleaned_text = clean_text(txt_formatted)\n",
    "print(cleaned_text)"
   ]
  },
  {
   "cell_type": "code",
   "execution_count": 3,
   "metadata": {},
   "outputs": [],
   "source": [
    "# Now we can write it out to a file.\n",
    "with open(f'./transcripts/{file_name}.txt', 'w', encoding='utf-8') as txt_file:\n",
    "    txt_file.write(cleaned_text)"
   ]
  },
  {
   "cell_type": "code",
   "execution_count": null,
   "metadata": {},
   "outputs": [],
   "source": []
  }
 ],
 "metadata": {
  "kernelspec": {
   "display_name": "cleaning",
   "language": "python",
   "name": "python3"
  },
  "language_info": {
   "codemirror_mode": {
    "name": "ipython",
    "version": 3
   },
   "file_extension": ".py",
   "mimetype": "text/x-python",
   "name": "python",
   "nbconvert_exporter": "python",
   "pygments_lexer": "ipython3",
   "version": "3.13.1"
  }
 },
 "nbformat": 4,
 "nbformat_minor": 2
}
