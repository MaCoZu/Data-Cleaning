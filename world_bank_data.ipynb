{
 "cells": [
  {
   "cell_type": "code",
   "execution_count": 196,
   "metadata": {},
   "outputs": [],
   "source": [
    "pd.set_option('display.max_rows', 50)\n"
   ]
  },
  {
   "cell_type": "code",
   "execution_count": 195,
   "metadata": {},
   "outputs": [],
   "source": [
    "import pandas as pd"
   ]
  },
  {
   "cell_type": "code",
   "execution_count": 231,
   "metadata": {},
   "outputs": [],
   "source": [
    "mva = pd.read_csv(\n",
    "    \"Manufacturing.csv\", header=0\n",
    ")\n",
    "\n",
    "mva_d = mva.drop(columns=['Series Name', 'Series Code'])\n",
    "mva_s = mva_d[:7]\n",
    "mva_s['Country Name'].unique()\n",
    "Countries = ['China', 'United States', 'India', 'Japan', 'Russian Federation',\n",
    "       'Germany']\n",
    "\n",
    "mva_c = mva_s[mva_s['Country Name'].isin(Countries)]\n",
    "world = mva_s[mva_s['Country Name'] == 'World']\n",
    "\n",
    "\n",
    "mva_u = mva_c.melt(id_vars=['Country Name', 'Country Code'],\n",
    "                      var_name='Year',\n",
    "                      value_name='MVA')\n",
    "\n",
    "mva_u.columns = ['Country', 'Code', 'Year', 'MVA']\n",
    "\n",
    "def clean_year(df):\n",
    "    df.Year = df.Year.str.slice(0, 4)\n",
    "    return df\n",
    "\n",
    "\n",
    "mva_c = clean_year(mva_u)\n",
    "\n",
    "world_u = world.melt(id_vars=['Country Name', 'Country Code'],\n",
    "                      var_name='Year',\n",
    "                      value_name=' World_MVA')\n",
    "\n",
    "world_c = clean_year(world_u)\n",
    "world_c.columns = ['Country', 'Code', 'Year', 'World_MVA']\n",
    "\n",
    "# Extract the \"World\" row into a separate DataFrame\n",
    "world_d = world_c.set_index('Year')['World_MVA']\n",
    "mva_c['World_MVA'] = mva_c.Year.map(world_d)\n",
    "\n",
    "\n",
    "cols = ['Year', 'MVA', 'World_MVA']\n",
    "mva_c[cols] = mva_c[cols].apply(pd.to_numeric, errors='coerce')\n",
    "mva_c['Share of global MVA'] = mva_c['MVA'] / mva_c['World_MVA']\n",
    "mva_c['Share of global MVA'] = mva_c['Share of global MVA'].apply(\n",
    "    lambda x: f\"{x:,.5f}\")"
   ]
  },
  {
   "cell_type": "code",
   "execution_count": 241,
   "metadata": {},
   "outputs": [
    {
     "data": {
      "text/html": [
       "<div>\n",
       "<style scoped>\n",
       "    .dataframe tbody tr th:only-of-type {\n",
       "        vertical-align: middle;\n",
       "    }\n",
       "\n",
       "    .dataframe tbody tr th {\n",
       "        vertical-align: top;\n",
       "    }\n",
       "\n",
       "    .dataframe thead th {\n",
       "        text-align: right;\n",
       "    }\n",
       "</style>\n",
       "<table border=\"1\" class=\"dataframe\">\n",
       "  <thead>\n",
       "    <tr style=\"text-align: right;\">\n",
       "      <th></th>\n",
       "      <th>Country</th>\n",
       "      <th>Code</th>\n",
       "      <th>Year</th>\n",
       "      <th>MVA</th>\n",
       "      <th>World_MVA</th>\n",
       "      <th>Share of global MVA</th>\n",
       "    </tr>\n",
       "  </thead>\n",
       "  <tbody>\n",
       "    <tr>\n",
       "      <th>366</th>\n",
       "      <td>China</td>\n",
       "      <td>CHN</td>\n",
       "      <td>2021</td>\n",
       "      <td>4909020290403</td>\n",
       "      <td>16076811269678</td>\n",
       "      <td>0.30535</td>\n",
       "    </tr>\n",
       "    <tr>\n",
       "      <th>372</th>\n",
       "      <td>China</td>\n",
       "      <td>CHN</td>\n",
       "      <td>2022</td>\n",
       "      <td>4839978519132</td>\n",
       "      <td>16027703749811</td>\n",
       "      <td>0.30198</td>\n",
       "    </tr>\n",
       "    <tr>\n",
       "      <th>378</th>\n",
       "      <td>China</td>\n",
       "      <td>CHN</td>\n",
       "      <td>2023</td>\n",
       "      <td>4658781665382</td>\n",
       "      <td>16182038502639</td>\n",
       "      <td>0.28790</td>\n",
       "    </tr>\n",
       "    <tr>\n",
       "      <th>360</th>\n",
       "      <td>China</td>\n",
       "      <td>CHN</td>\n",
       "      <td>2020</td>\n",
       "      <td>3860697899031</td>\n",
       "      <td>13651818077199</td>\n",
       "      <td>0.28280</td>\n",
       "    </tr>\n",
       "    <tr>\n",
       "      <th>348</th>\n",
       "      <td>China</td>\n",
       "      <td>CHN</td>\n",
       "      <td>2018</td>\n",
       "      <td>3868482846609</td>\n",
       "      <td>14194002115876</td>\n",
       "      <td>0.27254</td>\n",
       "    </tr>\n",
       "    <tr>\n",
       "      <th>...</th>\n",
       "      <td>...</td>\n",
       "      <td>...</td>\n",
       "      <td>...</td>\n",
       "      <td>...</td>\n",
       "      <td>...</td>\n",
       "      <td>...</td>\n",
       "    </tr>\n",
       "    <tr>\n",
       "      <th>236</th>\n",
       "      <td>India</td>\n",
       "      <td>IND</td>\n",
       "      <td>1999</td>\n",
       "      <td>69651498341</td>\n",
       "      <td>6038016411236</td>\n",
       "      <td>0.01154</td>\n",
       "    </tr>\n",
       "    <tr>\n",
       "      <th>224</th>\n",
       "      <td>India</td>\n",
       "      <td>IND</td>\n",
       "      <td>1997</td>\n",
       "      <td>68695410075</td>\n",
       "      <td>6039780233304</td>\n",
       "      <td>0.01137</td>\n",
       "    </tr>\n",
       "    <tr>\n",
       "      <th>230</th>\n",
       "      <td>India</td>\n",
       "      <td>IND</td>\n",
       "      <td>1998</td>\n",
       "      <td>66233545094</td>\n",
       "      <td>5907537686927</td>\n",
       "      <td>0.01121</td>\n",
       "    </tr>\n",
       "    <tr>\n",
       "      <th>262</th>\n",
       "      <td>Russian Federation</td>\n",
       "      <td>RUS</td>\n",
       "      <td>2003</td>\n",
       "      <td>61829454173</td>\n",
       "      <td>6500013956766</td>\n",
       "      <td>0.00951</td>\n",
       "    </tr>\n",
       "    <tr>\n",
       "      <th>256</th>\n",
       "      <td>Russian Federation</td>\n",
       "      <td>RUS</td>\n",
       "      <td>2002</td>\n",
       "      <td>52488868836</td>\n",
       "      <td>5854970099694</td>\n",
       "      <td>0.00896</td>\n",
       "    </tr>\n",
       "  </tbody>\n",
       "</table>\n",
       "<p>147 rows × 6 columns</p>\n",
       "</div>"
      ],
      "text/plain": [
       "                Country Code  Year           MVA      World_MVA  \\\n",
       "366               China  CHN  2021 4909020290403 16076811269678   \n",
       "372               China  CHN  2022 4839978519132 16027703749811   \n",
       "378               China  CHN  2023 4658781665382 16182038502639   \n",
       "360               China  CHN  2020 3860697899031 13651818077199   \n",
       "348               China  CHN  2018 3868482846609 14194002115876   \n",
       "..                  ...  ...   ...           ...            ...   \n",
       "236               India  IND  1999   69651498341  6038016411236   \n",
       "224               India  IND  1997   68695410075  6039780233304   \n",
       "230               India  IND  1998   66233545094  5907537686927   \n",
       "262  Russian Federation  RUS  2003   61829454173  6500013956766   \n",
       "256  Russian Federation  RUS  2002   52488868836  5854970099694   \n",
       "\n",
       "    Share of global MVA  \n",
       "366             0.30535  \n",
       "372             0.30198  \n",
       "378             0.28790  \n",
       "360             0.28280  \n",
       "348             0.27254  \n",
       "..                  ...  \n",
       "236             0.01154  \n",
       "224             0.01137  \n",
       "230             0.01121  \n",
       "262             0.00951  \n",
       "256             0.00896  \n",
       "\n",
       "[147 rows x 6 columns]"
      ]
     },
     "execution_count": 241,
     "metadata": {},
     "output_type": "execute_result"
    }
   ],
   "source": [
    "mva_drop = mva_c.dropna()\n",
    "mva_drop.sort_values(by=\"Share of global MVA\", ascending=False)"
   ]
  },
  {
   "cell_type": "code",
   "execution_count": 295,
   "metadata": {},
   "outputs": [],
   "source": [
    "mva_drop.to_csv('../data/manufacturing_share_clean.csv', index=False)"
   ]
  },
  {
   "cell_type": "code",
   "execution_count": 259,
   "metadata": {},
   "outputs": [
    {
     "name": "stderr",
     "output_type": "stream",
     "text": [
      "/tmp/ipykernel_192225/3398847556.py:2: SettingWithCopyWarning:\n",
      "\n",
      "\n",
      "A value is trying to be set on a copy of a slice from a DataFrame.\n",
      "Try using .loc[row_indexer,col_indexer] = value instead\n",
      "\n",
      "See the caveats in the documentation: https://pandas.pydata.org/pandas-docs/stable/user_guide/indexing.html#returning-a-view-versus-a-copy\n",
      "\n"
     ]
    },
    {
     "data": {
      "text/plain": [
       "Country                 object\n",
       "Code                    object\n",
       "Year                     int64\n",
       "MVA                    float64\n",
       "World_MVA              float64\n",
       "Share of global MVA    float64\n",
       "dtype: object"
      ]
     },
     "execution_count": 259,
     "metadata": {},
     "output_type": "execute_result"
    }
   ],
   "source": [
    "cols = ['Year', 'MVA', 'World_MVA', 'Share of global MVA']\n",
    "mva_drop[cols] = mva_drop[cols].apply(pd.to_numeric, errors='coerce')\n",
    "mva_drop.dtypes"
   ]
  },
  {
   "cell_type": "code",
   "execution_count": 275,
   "metadata": {},
   "outputs": [
    {
     "data": {
      "text/plain": [
       "<Axes: xlabel='Year', ylabel='Share of global MVA'>"
      ]
     },
     "execution_count": 275,
     "metadata": {},
     "output_type": "execute_result"
    },
    {
     "data": {
      "image/png": "[encoded data removed]",
      "text/plain": [
       "<Figure size 1000x600 with 1 Axes>"
      ]
     },
     "metadata": {},
     "output_type": "display_data"
    }
   ],
   "source": [
    "import seaborn as sns\n",
    "sns.set_style(\"white\")\n",
    "plt.figure(figsize=(10, 6))\n",
    "sns.lineplot(x=\"Year\", y=\"Share of global MVA\", hue=\"Country\", data=mva_drop)"
   ]
  },
  {
   "cell_type": "code",
   "execution_count": 291,
   "metadata": {},
   "outputs": [
    {
     "data": {
      "application/vnd.plotly.v1+json": {
       "config": {
        "displayModeBar": true,
        "displaylogo": false,
        "modeBarButtonsToRemove": [
         "pan",
         "select",
         "lasso2d",
         "zoomIn",
         "zoomOut"
        ],
        "plotlyServerURL": "https://plot.ly"
       },
       "data": [
        {
         "hovertemplate": "Country=United States<br>Year=%{x}<br>Share of global MVA=%{y}<extra></extra>",
         "legendgroup": "United States",
         "line": {
          "color": "#636efa",
          "dash": "solid"
         },
         "marker": {
          "symbol": "circle"
         },
         "mode": "lines",
         "name": "United States",
         "orientation": "v",
         "showlegend": true,
         "type": "scatter",
         "x": [
          1997,
          1998,
          1999,
          2000,
          2001,
          2002,
          2003,
          2004,
          2005,
          2006,
          2007,
          2008,
          2009,
          2010,
          2011,
          2012,
          2013,
          2014,
          2015,
          2016,
          2017,
          2018,
          2019,
          2020,
          2021
         ],
         "xaxis": "x",
         "y": [
          0.22847,
          0.242,
          0.24659,
          0.25043,
          0.25456,
          0.25112,
          0.23471,
          0.22157,
          0.21798,
          0.21374,
          0.19574,
          0.17669,
          0.18136,
          0.16951,
          0.15792,
          0.15993,
          0.16188,
          0.16081,
          0.1719,
          0.16905,
          0.16533,
          0.16416,
          0.16836,
          0.16397,
          0.15533
         ],
         "yaxis": "y"
        },
        {
         "hovertemplate": "Country=Japan<br>Year=%{x}<br>Share of global MVA=%{y}<extra></extra>",
         "legendgroup": "Japan",
         "line": {
          "color": "#EF553B",
          "dash": "solid"
         },
         "marker": {
          "symbol": "circle"
         },
         "mode": "lines",
         "name": "Japan",
         "orientation": "v",
         "showlegend": true,
         "type": "scatter",
         "x": [
          1997,
          1998,
          1999,
          2000,
          2001,
          2002,
          2003,
          2004,
          2005,
          2006,
          2007,
          2008,
          2009,
          2010,
          2011,
          2012,
          2013,
          2014,
          2015,
          2016,
          2017,
          2018,
          2019,
          2020,
          2021,
          2022
         ],
         "xaxis": "x",
         "y": [
          0.17368,
          0.15843,
          0.172,
          0.18029,
          0.15968,
          0.14799,
          0.14544,
          0.14227,
          0.13328,
          0.11727,
          0.10609,
          0.10638,
          0.10788,
          0.11314,
          0.10318,
          0.10236,
          0.08207,
          0.07543,
          0.07364,
          0.08179,
          0.07597,
          0.07324,
          0.07371,
          0.07426,
          0.06531,
          0.05106
         ],
         "yaxis": "y"
        },
        {
         "hovertemplate": "Country=Germany<br>Year=%{x}<br>Share of global MVA=%{y}<extra></extra>",
         "legendgroup": "Germany",
         "line": {
          "color": "#00cc96",
          "dash": "solid"
         },
         "marker": {
          "symbol": "circle"
         },
         "mode": "lines",
         "name": "Germany",
         "orientation": "v",
         "showlegend": true,
         "type": "scatter",
         "x": [
          1997,
          1998,
          1999,
          2000,
          2001,
          2002,
          2003,
          2004,
          2005,
          2006,
          2007,
          2008,
          2009,
          2010,
          2011,
          2012,
          2013,
          2014,
          2015,
          2016,
          2017,
          2018,
          2019,
          2020,
          2021,
          2022,
          2023
         ],
         "xaxis": "x",
         "y": [
          0.07409,
          0.07735,
          0.07268,
          0.06469,
          0.0684,
          0.07025,
          0.07636,
          0.07762,
          0.07357,
          0.07368,
          0.07565,
          0.07353,
          0.06459,
          0.06335,
          0.06428,
          0.059,
          0.0606,
          0.06183,
          0.05531,
          0.05776,
          0.05674,
          0.05611,
          0.05422,
          0.05338,
          0.05032,
          0.04697,
          0.05221
         ],
         "yaxis": "y"
        },
        {
         "hovertemplate": "Country=China<br>Year=%{x}<br>Share of global MVA=%{y}<extra></extra>",
         "legendgroup": "China",
         "line": {
          "color": "#ab63fa",
          "dash": "solid"
         },
         "marker": {
          "symbol": "circle"
         },
         "mode": "lines",
         "name": "China",
         "orientation": "v",
         "showlegend": true,
         "type": "scatter",
         "x": [
          2004,
          2005,
          2006,
          2007,
          2008,
          2009,
          2010,
          2011,
          2012,
          2013,
          2014,
          2015,
          2016,
          2017,
          2018,
          2019,
          2020,
          2021,
          2022,
          2023
         ],
         "xaxis": "x",
         "y": [
          0.08607,
          0.09447,
          0.10637,
          0.12175,
          0.1445,
          0.1726,
          0.18205,
          0.20517,
          0.22323,
          0.23912,
          0.25032,
          0.25928,
          0.25403,
          0.26089,
          0.27254,
          0.27227,
          0.2828,
          0.30535,
          0.30198,
          0.2879
         ],
         "yaxis": "y"
        }
       ],
       "layout": {
        "font": {
         "family": "Calibri",
         "size": 14
        },
        "legend": {
         "title": {
          "text": "Country"
         },
         "tracegroupgap": 0
        },
        "margin": {
         "b": 50,
         "l": 50,
         "r": 50,
         "t": 50
        },
        "template": {
         "data": {
          "bar": [
           {
            "error_x": {
             "color": "rgb(36,36,36)"
            },
            "error_y": {
             "color": "rgb(36,36,36)"
            },
            "marker": {
             "line": {
              "color": "white",
              "width": 0.5
             },
             "pattern": {
              "fillmode": "overlay",
              "size": 10,
              "solidity": 0.2
             }
            },
            "type": "bar"
           }
          ],
          "barpolar": [
           {
            "marker": {
             "line": {
              "color": "white",
              "width": 0.5
             },
             "pattern": {
              "fillmode": "overlay",
              "size": 10,
              "solidity": 0.2
             }
            },
            "type": "barpolar"
           }
          ],
          "carpet": [
           {
            "aaxis": {
             "endlinecolor": "rgb(36,36,36)",
             "gridcolor": "white",
             "linecolor": "white",
             "minorgridcolor": "white",
             "startlinecolor": "rgb(36,36,36)"
            },
            "baxis": {
             "endlinecolor": "rgb(36,36,36)",
             "gridcolor": "white",
             "linecolor": "white",
             "minorgridcolor": "white",
             "startlinecolor": "rgb(36,36,36)"
            },
            "type": "carpet"
           }
          ],
          "choropleth": [
           {
            "colorbar": {
             "outlinewidth": 1,
             "tickcolor": "rgb(36,36,36)",
             "ticks": "outside"
            },
            "type": "choropleth"
           }
          ],
          "contour": [
           {
            "colorbar": {
             "outlinewidth": 1,
             "tickcolor": "rgb(36,36,36)",
             "ticks": "outside"
            },
            "colorscale": [
             [
              0,
              "#440154"
             ],
             [
              0.1111111111111111,
              "#482878"
             ],
             [
              0.2222222222222222,
              "#3e4989"
             ],
             [
              0.3333333333333333,
              "#31688e"
             ],
             [
              0.4444444444444444,
              "#26828e"
             ],
             [
              0.5555555555555556,
              "#1f9e89"
             ],
             [
              0.6666666666666666,
              "#35b779"
             ],
             [
              0.7777777777777778,
              "#6ece58"
             ],
             [
              0.8888888888888888,
              "#b5de2b"
             ],
             [
              1,
              "#fde725"
             ]
            ],
            "type": "contour"
           }
          ],
          "contourcarpet": [
           {
            "colorbar": {
             "outlinewidth": 1,
             "tickcolor": "rgb(36,36,36)",
             "ticks": "outside"
            },
            "type": "contourcarpet"
           }
          ],
          "heatmap": [
           {
            "colorbar": {
             "outlinewidth": 1,
             "tickcolor": "rgb(36,36,36)",
             "ticks": "outside"
            },
            "colorscale": [
             [
              0,
              "#440154"
             ],
             [
              0.1111111111111111,
              "#482878"
             ],
             [
              0.2222222222222222,
              "#3e4989"
             ],
             [
              0.3333333333333333,
              "#31688e"
             ],
             [
              0.4444444444444444,
              "#26828e"
             ],
             [
              0.5555555555555556,
              "#1f9e89"
             ],
             [
              0.6666666666666666,
              "#35b779"
             ],
             [
              0.7777777777777778,
              "#6ece58"
             ],
             [
              0.8888888888888888,
              "#b5de2b"
             ],
             [
              1,
              "#fde725"
             ]
            ],
            "type": "heatmap"
           }
          ],
          "heatmapgl": [
           {
            "colorbar": {
             "outlinewidth": 1,
             "tickcolor": "rgb(36,36,36)",
             "ticks": "outside"
            },
            "colorscale": [
             [
              0,
              "#440154"
             ],
             [
              0.1111111111111111,
              "#482878"
             ],
             [
              0.2222222222222222,
              "#3e4989"
             ],
             [
              0.3333333333333333,
              "#31688e"
             ],
             [
              0.4444444444444444,
              "#26828e"
             ],
             [
              0.5555555555555556,
              "#1f9e89"
             ],
             [
              0.6666666666666666,
              "#35b779"
             ],
             [
              0.7777777777777778,
              "#6ece58"
             ],
             [
              0.8888888888888888,
              "#b5de2b"
             ],
             [
              1,
              "#fde725"
             ]
            ],
            "type": "heatmapgl"
           }
          ],
          "histogram": [
           {
            "marker": {
             "line": {
              "color": "white",
              "width": 0.6
             }
            },
            "type": "histogram"
           }
          ],
          "histogram2d": [
           {
            "colorbar": {
             "outlinewidth": 1,
             "tickcolor": "rgb(36,36,36)",
             "ticks": "outside"
            },
            "colorscale": [
             [
              0,
              "#440154"
             ],
             [
              0.1111111111111111,
              "#482878"
             ],
             [
              0.2222222222222222,
              "#3e4989"
             ],
             [
              0.3333333333333333,
              "#31688e"
             ],
             [
              0.4444444444444444,
              "#26828e"
             ],
             [
              0.5555555555555556,
              "#1f9e89"
             ],
             [
              0.6666666666666666,
              "#35b779"
             ],
             [
              0.7777777777777778,
              "#6ece58"
             ],
             [
              0.8888888888888888,
              "#b5de2b"
             ],
             [
              1,
              "#fde725"
             ]
            ],
            "type": "histogram2d"
           }
          ],
          "histogram2dcontour": [
           {
            "colorbar": {
             "outlinewidth": 1,
             "tickcolor": "rgb(36,36,36)",
             "ticks": "outside"
            },
            "colorscale": [
             [
              0,
              "#440154"
             ],
             [
              0.1111111111111111,
              "#482878"
             ],
             [
              0.2222222222222222,
              "#3e4989"
             ],
             [
              0.3333333333333333,
              "#31688e"
             ],
             [
              0.4444444444444444,
              "#26828e"
             ],
             [
              0.5555555555555556,
              "#1f9e89"
             ],
             [
              0.6666666666666666,
              "#35b779"
             ],
             [
              0.7777777777777778,
              "#6ece58"
             ],
             [
              0.8888888888888888,
              "#b5de2b"
             ],
             [
              1,
              "#fde725"
             ]
            ],
            "type": "histogram2dcontour"
           }
          ],
          "mesh3d": [
           {
            "colorbar": {
             "outlinewidth": 1,
             "tickcolor": "rgb(36,36,36)",
             "ticks": "outside"
            },
            "type": "mesh3d"
           }
          ],
          "parcoords": [
           {
            "line": {
             "colorbar": {
              "outlinewidth": 1,
              "tickcolor": "rgb(36,36,36)",
              "ticks": "outside"
             }
            },
            "type": "parcoords"
           }
          ],
          "pie": [
           {
            "automargin": true,
            "type": "pie"
           }
          ],
          "scatter": [
           {
            "fillpattern": {
             "fillmode": "overlay",
             "size": 10,
             "solidity": 0.2
            },
            "type": "scatter"
           }
          ],
          "scatter3d": [
           {
            "line": {
             "colorbar": {
              "outlinewidth": 1,
              "tickcolor": "rgb(36,36,36)",
              "ticks": "outside"
             }
            },
            "marker": {
             "colorbar": {
              "outlinewidth": 1,
              "tickcolor": "rgb(36,36,36)",
              "ticks": "outside"
             }
            },
            "type": "scatter3d"
           }
          ],
          "scattercarpet": [
           {
            "marker": {
             "colorbar": {
              "outlinewidth": 1,
              "tickcolor": "rgb(36,36,36)",
              "ticks": "outside"
             }
            },
            "type": "scattercarpet"
           }
          ],
          "scattergeo": [
           {
            "marker": {
             "colorbar": {
              "outlinewidth": 1,
              "tickcolor": "rgb(36,36,36)",
              "ticks": "outside"
             }
            },
            "type": "scattergeo"
           }
          ],
          "scattergl": [
           {
            "marker": {
             "colorbar": {
              "outlinewidth": 1,
              "tickcolor": "rgb(36,36,36)",
              "ticks": "outside"
             }
            },
            "type": "scattergl"
           }
          ],
          "scattermapbox": [
           {
            "marker": {
             "colorbar": {
              "outlinewidth": 1,
              "tickcolor": "rgb(36,36,36)",
              "ticks": "outside"
             }
            },
            "type": "scattermapbox"
           }
          ],
          "scatterpolar": [
           {
            "marker": {
             "colorbar": {
              "outlinewidth": 1,
              "tickcolor": "rgb(36,36,36)",
              "ticks": "outside"
             }
            },
            "type": "scatterpolar"
           }
          ],
          "scatterpolargl": [
           {
            "marker": {
             "colorbar": {
              "outlinewidth": 1,
              "tickcolor": "rgb(36,36,36)",
              "ticks": "outside"
             }
            },
            "type": "scatterpolargl"
           }
          ],
          "scatterternary": [
           {
            "marker": {
             "colorbar": {
              "outlinewidth": 1,
              "tickcolor": "rgb(36,36,36)",
              "ticks": "outside"
             }
            },
            "type": "scatterternary"
           }
          ],
          "surface": [
           {
            "colorbar": {
             "outlinewidth": 1,
             "tickcolor": "rgb(36,36,36)",
             "ticks": "outside"
            },
            "colorscale": [
             [
              0,
              "#440154"
             ],
             [
              0.1111111111111111,
              "#482878"
             ],
             [
              0.2222222222222222,
              "#3e4989"
             ],
             [
              0.3333333333333333,
              "#31688e"
             ],
             [
              0.4444444444444444,
              "#26828e"
             ],
             [
              0.5555555555555556,
              "#1f9e89"
             ],
             [
              0.6666666666666666,
              "#35b779"
             ],
             [
              0.7777777777777778,
              "#6ece58"
             ],
             [
              0.8888888888888888,
              "#b5de2b"
             ],
             [
              1,
              "#fde725"
             ]
            ],
            "type": "surface"
           }
          ],
          "table": [
           {
            "cells": {
             "fill": {
              "color": "rgb(237,237,237)"
             },
             "line": {
              "color": "white"
             }
            },
            "header": {
             "fill": {
              "color": "rgb(217,217,217)"
             },
             "line": {
              "color": "white"
             }
            },
            "type": "table"
           }
          ]
         },
         "layout": {
          "annotationdefaults": {
           "arrowhead": 0,
           "arrowwidth": 1
          },
          "autotypenumbers": "strict",
          "coloraxis": {
           "colorbar": {
            "outlinewidth": 1,
            "tickcolor": "rgb(36,36,36)",
            "ticks": "outside"
           }
          },
          "colorscale": {
           "diverging": [
            [
             0,
             "rgb(103,0,31)"
            ],
            [
             0.1,
             "rgb(178,24,43)"
            ],
            [
             0.2,
             "rgb(214,96,77)"
            ],
            [
             0.3,
             "rgb(244,165,130)"
            ],
            [
             0.4,
             "rgb(253,219,199)"
            ],
            [
             0.5,
             "rgb(247,247,247)"
            ],
            [
             0.6,
             "rgb(209,229,240)"
            ],
            [
             0.7,
             "rgb(146,197,222)"
            ],
            [
             0.8,
             "rgb(67,147,195)"
            ],
            [
             0.9,
             "rgb(33,102,172)"
            ],
            [
             1,
             "rgb(5,48,97)"
            ]
           ],
           "sequential": [
            [
             0,
             "#440154"
            ],
            [
             0.1111111111111111,
             "#482878"
            ],
            [
             0.2222222222222222,
             "#3e4989"
            ],
            [
             0.3333333333333333,
             "#31688e"
            ],
            [
             0.4444444444444444,
             "#26828e"
            ],
            [
             0.5555555555555556,
             "#1f9e89"
            ],
            [
             0.6666666666666666,
             "#35b779"
            ],
            [
             0.7777777777777778,
             "#6ece58"
            ],
            [
             0.8888888888888888,
             "#b5de2b"
            ],
            [
             1,
             "#fde725"
            ]
           ],
           "sequentialminus": [
            [
             0,
             "#440154"
            ],
            [
             0.1111111111111111,
             "#482878"
            ],
            [
             0.2222222222222222,
             "#3e4989"
            ],
            [
             0.3333333333333333,
             "#31688e"
            ],
            [
             0.4444444444444444,
             "#26828e"
            ],
            [
             0.5555555555555556,
             "#1f9e89"
            ],
            [
             0.6666666666666666,
             "#35b779"
            ],
            [
             0.7777777777777778,
             "#6ece58"
            ],
            [
             0.8888888888888888,
             "#b5de2b"
            ],
            [
             1,
             "#fde725"
            ]
           ]
          },
          "colorway": [
           "#1F77B4",
           "#FF7F0E",
           "#2CA02C",
           "#D62728",
           "#9467BD",
           "#8C564B",
           "#E377C2",
           "#7F7F7F",
           "#BCBD22",
           "#17BECF"
          ],
          "font": {
           "color": "rgb(36,36,36)"
          },
          "geo": {
           "bgcolor": "white",
           "lakecolor": "white",
           "landcolor": "white",
           "showlakes": true,
           "showland": true,
           "subunitcolor": "white"
          },
          "hoverlabel": {
           "align": "left"
          },
          "hovermode": "closest",
          "mapbox": {
           "style": "light"
          },
          "paper_bgcolor": "white",
          "plot_bgcolor": "white",
          "polar": {
           "angularaxis": {
            "gridcolor": "rgb(232,232,232)",
            "linecolor": "rgb(36,36,36)",
            "showgrid": false,
            "showline": true,
            "ticks": "outside"
           },
           "bgcolor": "white",
           "radialaxis": {
            "gridcolor": "rgb(232,232,232)",
            "linecolor": "rgb(36,36,36)",
            "showgrid": false,
            "showline": true,
            "ticks": "outside"
           }
          },
          "scene": {
           "xaxis": {
            "backgroundcolor": "white",
            "gridcolor": "rgb(232,232,232)",
            "gridwidth": 2,
            "linecolor": "rgb(36,36,36)",
            "showbackground": true,
            "showgrid": false,
            "showline": true,
            "ticks": "outside",
            "zeroline": false,
            "zerolinecolor": "rgb(36,36,36)"
           },
           "yaxis": {
            "backgroundcolor": "white",
            "gridcolor": "rgb(232,232,232)",
            "gridwidth": 2,
            "linecolor": "rgb(36,36,36)",
            "showbackground": true,
            "showgrid": false,
            "showline": true,
            "ticks": "outside",
            "zeroline": false,
            "zerolinecolor": "rgb(36,36,36)"
           },
           "zaxis": {
            "backgroundcolor": "white",
            "gridcolor": "rgb(232,232,232)",
            "gridwidth": 2,
            "linecolor": "rgb(36,36,36)",
            "showbackground": true,
            "showgrid": false,
            "showline": true,
            "ticks": "outside",
            "zeroline": false,
            "zerolinecolor": "rgb(36,36,36)"
           }
          },
          "shapedefaults": {
           "fillcolor": "black",
           "line": {
            "width": 0
           },
           "opacity": 0.3
          },
          "ternary": {
           "aaxis": {
            "gridcolor": "rgb(232,232,232)",
            "linecolor": "rgb(36,36,36)",
            "showgrid": false,
            "showline": true,
            "ticks": "outside"
           },
           "baxis": {
            "gridcolor": "rgb(232,232,232)",
            "linecolor": "rgb(36,36,36)",
            "showgrid": false,
            "showline": true,
            "ticks": "outside"
           },
           "bgcolor": "white",
           "caxis": {
            "gridcolor": "rgb(232,232,232)",
            "linecolor": "rgb(36,36,36)",
            "showgrid": false,
            "showline": true,
            "ticks": "outside"
           }
          },
          "title": {
           "x": 0.05
          },
          "xaxis": {
           "automargin": true,
           "gridcolor": "rgb(232,232,232)",
           "linecolor": "rgb(36,36,36)",
           "showgrid": false,
           "showline": true,
           "ticks": "outside",
           "title": {
            "standoff": 15
           },
           "zeroline": false,
           "zerolinecolor": "rgb(36,36,36)"
          },
          "yaxis": {
           "automargin": true,
           "gridcolor": "rgb(232,232,232)",
           "linecolor": "rgb(36,36,36)",
           "showgrid": false,
           "showline": true,
           "ticks": "outside",
           "title": {
            "standoff": 15
           },
           "zeroline": false,
           "zerolinecolor": "rgb(36,36,36)"
          }
         }
        },
        "title": {
         "text": "Share of global MVA by Country"
        },
        "xaxis": {
         "anchor": "y",
         "domain": [
          0,
          1
         ],
         "title": {
          "text": ""
         }
        },
        "yaxis": {
         "anchor": "x",
         "domain": [
          0,
          1
         ],
         "title": {
          "text": "Share of global MVA"
         }
        }
       }
      },
      "text/html": [
       "<div>                            <div id=\"f70081b8-fea1-4e15-95dd-0463c1b049eb\" class=\"plotly-graph-div\" style=\"height:525px; width:100%;\"></div>            <script type=\"text/javascript\">                require([\"plotly\"], function(Plotly) {                    window.PLOTLYENV=window.PLOTLYENV || {};                                    if (document.getElementById(\"f70081b8-fea1-4e15-95dd-0463c1b049eb\")) {                    Plotly.newPlot(                        \"f70081b8-fea1-4e15-95dd-0463c1b049eb\",                        [{\"hovertemplate\":\"Country=United States\\u003cbr\\u003eYear=%{x}\\u003cbr\\u003eShare of global MVA=%{y}\\u003cextra\\u003e\\u003c\\u002fextra\\u003e\",\"legendgroup\":\"United States\",\"line\":{\"color\":\"#636efa\",\"dash\":\"solid\"},\"marker\":{\"symbol\":\"circle\"},\"mode\":\"lines\",\"name\":\"United States\",\"orientation\":\"v\",\"showlegend\":true,\"x\":[1997,1998,1999,2000,2001,2002,2003,2004,2005,2006,2007,2008,2009,2010,2011,2012,2013,2014,2015,2016,2017,2018,2019,2020,2021],\"xaxis\":\"x\",\"y\":[0.22847,0.242,0.24659,0.25043,0.25456,0.25112,0.23471,0.22157,0.21798,0.21374,0.19574,0.17669,0.18136,0.16951,0.15792,0.15993,0.16188,0.16081,0.1719,0.16905,0.16533,0.16416,0.16836,0.16397,0.15533],\"yaxis\":\"y\",\"type\":\"scatter\"},{\"hovertemplate\":\"Country=Japan\\u003cbr\\u003eYear=%{x}\\u003cbr\\u003eShare of global MVA=%{y}\\u003cextra\\u003e\\u003c\\u002fextra\\u003e\",\"legendgroup\":\"Japan\",\"line\":{\"color\":\"#EF553B\",\"dash\":\"solid\"},\"marker\":{\"symbol\":\"circle\"},\"mode\":\"lines\",\"name\":\"Japan\",\"orientation\":\"v\",\"showlegend\":true,\"x\":[1997,1998,1999,2000,2001,2002,2003,2004,2005,2006,2007,2008,2009,2010,2011,2012,2013,2014,2015,2016,2017,2018,2019,2020,2021,2022],\"xaxis\":\"x\",\"y\":[0.17368,0.15843,0.172,0.18029,0.15968,0.14799,0.14544,0.14227,0.13328,0.11727,0.10609,0.10638,0.10788,0.11314,0.10318,0.10236,0.08207,0.07543,0.07364,0.08179,0.07597,0.07324,0.07371,0.07426,0.06531,0.05106],\"yaxis\":\"y\",\"type\":\"scatter\"},{\"hovertemplate\":\"Country=Germany\\u003cbr\\u003eYear=%{x}\\u003cbr\\u003eShare of global MVA=%{y}\\u003cextra\\u003e\\u003c\\u002fextra\\u003e\",\"legendgroup\":\"Germany\",\"line\":{\"color\":\"#00cc96\",\"dash\":\"solid\"},\"marker\":{\"symbol\":\"circle\"},\"mode\":\"lines\",\"name\":\"Germany\",\"orientation\":\"v\",\"showlegend\":true,\"x\":[1997,1998,1999,2000,2001,2002,2003,2004,2005,2006,2007,2008,2009,2010,2011,2012,2013,2014,2015,2016,2017,2018,2019,2020,2021,2022,2023],\"xaxis\":\"x\",\"y\":[0.07409,0.07735,0.07268,0.06469,0.0684,0.07025,0.07636,0.07762,0.07357,0.07368,0.07565,0.07353,0.06459,0.06335,0.06428,0.059,0.0606,0.06183,0.05531,0.05776,0.05674,0.05611,0.05422,0.05338,0.05032,0.04697,0.05221],\"yaxis\":\"y\",\"type\":\"scatter\"},{\"hovertemplate\":\"Country=China\\u003cbr\\u003eYear=%{x}\\u003cbr\\u003eShare of global MVA=%{y}\\u003cextra\\u003e\\u003c\\u002fextra\\u003e\",\"legendgroup\":\"China\",\"line\":{\"color\":\"#ab63fa\",\"dash\":\"solid\"},\"marker\":{\"symbol\":\"circle\"},\"mode\":\"lines\",\"name\":\"China\",\"orientation\":\"v\",\"showlegend\":true,\"x\":[2004,2005,2006,2007,2008,2009,2010,2011,2012,2013,2014,2015,2016,2017,2018,2019,2020,2021,2022,2023],\"xaxis\":\"x\",\"y\":[0.08607,0.09447,0.10637,0.12175,0.1445,0.1726,0.18205,0.20517,0.22323,0.23912,0.25032,0.25928,0.25403,0.26089,0.27254,0.27227,0.2828,0.30535,0.30198,0.2879],\"yaxis\":\"y\",\"type\":\"scatter\"}],                        {\"template\":{\"data\":{\"barpolar\":[{\"marker\":{\"line\":{\"color\":\"white\",\"width\":0.5},\"pattern\":{\"fillmode\":\"overlay\",\"size\":10,\"solidity\":0.2}},\"type\":\"barpolar\"}],\"bar\":[{\"error_x\":{\"color\":\"rgb(36,36,36)\"},\"error_y\":{\"color\":\"rgb(36,36,36)\"},\"marker\":{\"line\":{\"color\":\"white\",\"width\":0.5},\"pattern\":{\"fillmode\":\"overlay\",\"size\":10,\"solidity\":0.2}},\"type\":\"bar\"}],\"carpet\":[{\"aaxis\":{\"endlinecolor\":\"rgb(36,36,36)\",\"gridcolor\":\"white\",\"linecolor\":\"white\",\"minorgridcolor\":\"white\",\"startlinecolor\":\"rgb(36,36,36)\"},\"baxis\":{\"endlinecolor\":\"rgb(36,36,36)\",\"gridcolor\":\"white\",\"linecolor\":\"white\",\"minorgridcolor\":\"white\",\"startlinecolor\":\"rgb(36,36,36)\"},\"type\":\"carpet\"}],\"choropleth\":[{\"colorbar\":{\"outlinewidth\":1,\"tickcolor\":\"rgb(36,36,36)\",\"ticks\":\"outside\"},\"type\":\"choropleth\"}],\"contourcarpet\":[{\"colorbar\":{\"outlinewidth\":1,\"tickcolor\":\"rgb(36,36,36)\",\"ticks\":\"outside\"},\"type\":\"contourcarpet\"}],\"contour\":[{\"colorbar\":{\"outlinewidth\":1,\"tickcolor\":\"rgb(36,36,36)\",\"ticks\":\"outside\"},\"colorscale\":[[0.0,\"#440154\"],[0.1111111111111111,\"#482878\"],[0.2222222222222222,\"#3e4989\"],[0.3333333333333333,\"#31688e\"],[0.4444444444444444,\"#26828e\"],[0.5555555555555556,\"#1f9e89\"],[0.6666666666666666,\"#35b779\"],[0.7777777777777778,\"#6ece58\"],[0.8888888888888888,\"#b5de2b\"],[1.0,\"#fde725\"]],\"type\":\"contour\"}],\"heatmapgl\":[{\"colorbar\":{\"outlinewidth\":1,\"tickcolor\":\"rgb(36,36,36)\",\"ticks\":\"outside\"},\"colorscale\":[[0.0,\"#440154\"],[0.1111111111111111,\"#482878\"],[0.2222222222222222,\"#3e4989\"],[0.3333333333333333,\"#31688e\"],[0.4444444444444444,\"#26828e\"],[0.5555555555555556,\"#1f9e89\"],[0.6666666666666666,\"#35b779\"],[0.7777777777777778,\"#6ece58\"],[0.8888888888888888,\"#b5de2b\"],[1.0,\"#fde725\"]],\"type\":\"heatmapgl\"}],\"heatmap\":[{\"colorbar\":{\"outlinewidth\":1,\"tickcolor\":\"rgb(36,36,36)\",\"ticks\":\"outside\"},\"colorscale\":[[0.0,\"#440154\"],[0.1111111111111111,\"#482878\"],[0.2222222222222222,\"#3e4989\"],[0.3333333333333333,\"#31688e\"],[0.4444444444444444,\"#26828e\"],[0.5555555555555556,\"#1f9e89\"],[0.6666666666666666,\"#35b779\"],[0.7777777777777778,\"#6ece58\"],[0.8888888888888888,\"#b5de2b\"],[1.0,\"#fde725\"]],\"type\":\"heatmap\"}],\"histogram2dcontour\":[{\"colorbar\":{\"outlinewidth\":1,\"tickcolor\":\"rgb(36,36,36)\",\"ticks\":\"outside\"},\"colorscale\":[[0.0,\"#440154\"],[0.1111111111111111,\"#482878\"],[0.2222222222222222,\"#3e4989\"],[0.3333333333333333,\"#31688e\"],[0.4444444444444444,\"#26828e\"],[0.5555555555555556,\"#1f9e89\"],[0.6666666666666666,\"#35b779\"],[0.7777777777777778,\"#6ece58\"],[0.8888888888888888,\"#b5de2b\"],[1.0,\"#fde725\"]],\"type\":\"histogram2dcontour\"}],\"histogram2d\":[{\"colorbar\":{\"outlinewidth\":1,\"tickcolor\":\"rgb(36,36,36)\",\"ticks\":\"outside\"},\"colorscale\":[[0.0,\"#440154\"],[0.1111111111111111,\"#482878\"],[0.2222222222222222,\"#3e4989\"],[0.3333333333333333,\"#31688e\"],[0.4444444444444444,\"#26828e\"],[0.5555555555555556,\"#1f9e89\"],[0.6666666666666666,\"#35b779\"],[0.7777777777777778,\"#6ece58\"],[0.8888888888888888,\"#b5de2b\"],[1.0,\"#fde725\"]],\"type\":\"histogram2d\"}],\"histogram\":[{\"marker\":{\"line\":{\"color\":\"white\",\"width\":0.6}},\"type\":\"histogram\"}],\"mesh3d\":[{\"colorbar\":{\"outlinewidth\":1,\"tickcolor\":\"rgb(36,36,36)\",\"ticks\":\"outside\"},\"type\":\"mesh3d\"}],\"parcoords\":[{\"line\":{\"colorbar\":{\"outlinewidth\":1,\"tickcolor\":\"rgb(36,36,36)\",\"ticks\":\"outside\"}},\"type\":\"parcoords\"}],\"pie\":[{\"automargin\":true,\"type\":\"pie\"}],\"scatter3d\":[{\"line\":{\"colorbar\":{\"outlinewidth\":1,\"tickcolor\":\"rgb(36,36,36)\",\"ticks\":\"outside\"}},\"marker\":{\"colorbar\":{\"outlinewidth\":1,\"tickcolor\":\"rgb(36,36,36)\",\"ticks\":\"outside\"}},\"type\":\"scatter3d\"}],\"scattercarpet\":[{\"marker\":{\"colorbar\":{\"outlinewidth\":1,\"tickcolor\":\"rgb(36,36,36)\",\"ticks\":\"outside\"}},\"type\":\"scattercarpet\"}],\"scattergeo\":[{\"marker\":{\"colorbar\":{\"outlinewidth\":1,\"tickcolor\":\"rgb(36,36,36)\",\"ticks\":\"outside\"}},\"type\":\"scattergeo\"}],\"scattergl\":[{\"marker\":{\"colorbar\":{\"outlinewidth\":1,\"tickcolor\":\"rgb(36,36,36)\",\"ticks\":\"outside\"}},\"type\":\"scattergl\"}],\"scattermapbox\":[{\"marker\":{\"colorbar\":{\"outlinewidth\":1,\"tickcolor\":\"rgb(36,36,36)\",\"ticks\":\"outside\"}},\"type\":\"scattermapbox\"}],\"scatterpolargl\":[{\"marker\":{\"colorbar\":{\"outlinewidth\":1,\"tickcolor\":\"rgb(36,36,36)\",\"ticks\":\"outside\"}},\"type\":\"scatterpolargl\"}],\"scatterpolar\":[{\"marker\":{\"colorbar\":{\"outlinewidth\":1,\"tickcolor\":\"rgb(36,36,36)\",\"ticks\":\"outside\"}},\"type\":\"scatterpolar\"}],\"scatter\":[{\"fillpattern\":{\"fillmode\":\"overlay\",\"size\":10,\"solidity\":0.2},\"type\":\"scatter\"}],\"scatterternary\":[{\"marker\":{\"colorbar\":{\"outlinewidth\":1,\"tickcolor\":\"rgb(36,36,36)\",\"ticks\":\"outside\"}},\"type\":\"scatterternary\"}],\"surface\":[{\"colorbar\":{\"outlinewidth\":1,\"tickcolor\":\"rgb(36,36,36)\",\"ticks\":\"outside\"},\"colorscale\":[[0.0,\"#440154\"],[0.1111111111111111,\"#482878\"],[0.2222222222222222,\"#3e4989\"],[0.3333333333333333,\"#31688e\"],[0.4444444444444444,\"#26828e\"],[0.5555555555555556,\"#1f9e89\"],[0.6666666666666666,\"#35b779\"],[0.7777777777777778,\"#6ece58\"],[0.8888888888888888,\"#b5de2b\"],[1.0,\"#fde725\"]],\"type\":\"surface\"}],\"table\":[{\"cells\":{\"fill\":{\"color\":\"rgb(237,237,237)\"},\"line\":{\"color\":\"white\"}},\"header\":{\"fill\":{\"color\":\"rgb(217,217,217)\"},\"line\":{\"color\":\"white\"}},\"type\":\"table\"}]},\"layout\":{\"annotationdefaults\":{\"arrowhead\":0,\"arrowwidth\":1},\"autotypenumbers\":\"strict\",\"coloraxis\":{\"colorbar\":{\"outlinewidth\":1,\"tickcolor\":\"rgb(36,36,36)\",\"ticks\":\"outside\"}},\"colorscale\":{\"diverging\":[[0.0,\"rgb(103,0,31)\"],[0.1,\"rgb(178,24,43)\"],[0.2,\"rgb(214,96,77)\"],[0.3,\"rgb(244,165,130)\"],[0.4,\"rgb(253,219,199)\"],[0.5,\"rgb(247,247,247)\"],[0.6,\"rgb(209,229,240)\"],[0.7,\"rgb(146,197,222)\"],[0.8,\"rgb(67,147,195)\"],[0.9,\"rgb(33,102,172)\"],[1.0,\"rgb(5,48,97)\"]],\"sequential\":[[0.0,\"#440154\"],[0.1111111111111111,\"#482878\"],[0.2222222222222222,\"#3e4989\"],[0.3333333333333333,\"#31688e\"],[0.4444444444444444,\"#26828e\"],[0.5555555555555556,\"#1f9e89\"],[0.6666666666666666,\"#35b779\"],[0.7777777777777778,\"#6ece58\"],[0.8888888888888888,\"#b5de2b\"],[1.0,\"#fde725\"]],\"sequentialminus\":[[0.0,\"#440154\"],[0.1111111111111111,\"#482878\"],[0.2222222222222222,\"#3e4989\"],[0.3333333333333333,\"#31688e\"],[0.4444444444444444,\"#26828e\"],[0.5555555555555556,\"#1f9e89\"],[0.6666666666666666,\"#35b779\"],[0.7777777777777778,\"#6ece58\"],[0.8888888888888888,\"#b5de2b\"],[1.0,\"#fde725\"]]},\"colorway\":[\"#1F77B4\",\"#FF7F0E\",\"#2CA02C\",\"#D62728\",\"#9467BD\",\"#8C564B\",\"#E377C2\",\"#7F7F7F\",\"#BCBD22\",\"#17BECF\"],\"font\":{\"color\":\"rgb(36,36,36)\"},\"geo\":{\"bgcolor\":\"white\",\"lakecolor\":\"white\",\"landcolor\":\"white\",\"showlakes\":true,\"showland\":true,\"subunitcolor\":\"white\"},\"hoverlabel\":{\"align\":\"left\"},\"hovermode\":\"closest\",\"mapbox\":{\"style\":\"light\"},\"paper_bgcolor\":\"white\",\"plot_bgcolor\":\"white\",\"polar\":{\"angularaxis\":{\"gridcolor\":\"rgb(232,232,232)\",\"linecolor\":\"rgb(36,36,36)\",\"showgrid\":false,\"showline\":true,\"ticks\":\"outside\"},\"bgcolor\":\"white\",\"radialaxis\":{\"gridcolor\":\"rgb(232,232,232)\",\"linecolor\":\"rgb(36,36,36)\",\"showgrid\":false,\"showline\":true,\"ticks\":\"outside\"}},\"scene\":{\"xaxis\":{\"backgroundcolor\":\"white\",\"gridcolor\":\"rgb(232,232,232)\",\"gridwidth\":2,\"linecolor\":\"rgb(36,36,36)\",\"showbackground\":true,\"showgrid\":false,\"showline\":true,\"ticks\":\"outside\",\"zeroline\":false,\"zerolinecolor\":\"rgb(36,36,36)\"},\"yaxis\":{\"backgroundcolor\":\"white\",\"gridcolor\":\"rgb(232,232,232)\",\"gridwidth\":2,\"linecolor\":\"rgb(36,36,36)\",\"showbackground\":true,\"showgrid\":false,\"showline\":true,\"ticks\":\"outside\",\"zeroline\":false,\"zerolinecolor\":\"rgb(36,36,36)\"},\"zaxis\":{\"backgroundcolor\":\"white\",\"gridcolor\":\"rgb(232,232,232)\",\"gridwidth\":2,\"linecolor\":\"rgb(36,36,36)\",\"showbackground\":true,\"showgrid\":false,\"showline\":true,\"ticks\":\"outside\",\"zeroline\":false,\"zerolinecolor\":\"rgb(36,36,36)\"}},\"shapedefaults\":{\"fillcolor\":\"black\",\"line\":{\"width\":0},\"opacity\":0.3},\"ternary\":{\"aaxis\":{\"gridcolor\":\"rgb(232,232,232)\",\"linecolor\":\"rgb(36,36,36)\",\"showgrid\":false,\"showline\":true,\"ticks\":\"outside\"},\"baxis\":{\"gridcolor\":\"rgb(232,232,232)\",\"linecolor\":\"rgb(36,36,36)\",\"showgrid\":false,\"showline\":true,\"ticks\":\"outside\"},\"bgcolor\":\"white\",\"caxis\":{\"gridcolor\":\"rgb(232,232,232)\",\"linecolor\":\"rgb(36,36,36)\",\"showgrid\":false,\"showline\":true,\"ticks\":\"outside\"}},\"title\":{\"x\":0.05},\"xaxis\":{\"automargin\":true,\"gridcolor\":\"rgb(232,232,232)\",\"linecolor\":\"rgb(36,36,36)\",\"showgrid\":false,\"showline\":true,\"ticks\":\"outside\",\"title\":{\"standoff\":15},\"zeroline\":false,\"zerolinecolor\":\"rgb(36,36,36)\"},\"yaxis\":{\"automargin\":true,\"gridcolor\":\"rgb(232,232,232)\",\"linecolor\":\"rgb(36,36,36)\",\"showgrid\":false,\"showline\":true,\"ticks\":\"outside\",\"title\":{\"standoff\":15},\"zeroline\":false,\"zerolinecolor\":\"rgb(36,36,36)\"}}},\"xaxis\":{\"anchor\":\"y\",\"domain\":[0.0,1.0],\"title\":{\"text\":\"\"}},\"yaxis\":{\"anchor\":\"x\",\"domain\":[0.0,1.0],\"title\":{\"text\":\"Share of global MVA\"}},\"legend\":{\"title\":{\"text\":\"Country\"},\"tracegroupgap\":0},\"title\":{\"text\":\"Share of global MVA by Country\"},\"margin\":{\"l\":50,\"r\":50,\"t\":50,\"b\":50},\"font\":{\"family\":\"Calibri\",\"size\":14}},                        {\"displayModeBar\": true, \"modeBarButtonsToRemove\": [\"pan\", \"select\", \"lasso2d\", \"zoomIn\", \"zoomOut\"], \"displaylogo\": false, \"responsive\": true}                    ).then(function(){\n",
       "                            \n",
       "var gd = document.getElementById('f70081b8-fea1-4e15-95dd-0463c1b049eb');\n",
       "var x = new MutationObserver(function (mutations, observer) {{\n",
       "        var display = window.getComputedStyle(gd).display;\n",
       "        if (!display || display === 'none') {{\n",
       "            console.log([gd, 'removed!']);\n",
       "            Plotly.purge(gd);\n",
       "            observer.disconnect();\n",
       "        }}\n",
       "}});\n",
       "\n",
       "// Listen for the removal of the full notebook cells\n",
       "var notebookContainer = gd.closest('#notebook-container');\n",
       "if (notebookContainer) {{\n",
       "    x.observe(notebookContainer, {childList: true});\n",
       "}}\n",
       "\n",
       "// Listen for the clearing of the current output cell\n",
       "var outputEl = gd.closest('.output');\n",
       "if (outputEl) {{\n",
       "    x.observe(outputEl, {childList: true});\n",
       "}}\n",
       "\n",
       "                        })                };                });            </script>        </div>"
      ]
     },
     "metadata": {},
     "output_type": "display_data"
    }
   ],
   "source": [
    "import plotly.express as px\n",
    "\n",
    "Countries = ['China', 'United States', 'Japan',  'Germany']\n",
    "selection = mva_drop[mva_drop['Country'].isin(Countries)]\n",
    "\n",
    "fig = px.line(selection,\n",
    "              x=\"Year\",\n",
    "              y=\"Share of global MVA\",\n",
    "              color=\"Country\",\n",
    "              title='Share of global MVA by Country')\n",
    "\n",
    "fig.update_layout(\n",
    "    xaxis_title='',\n",
    "    yaxis_title='Share of global MVA',\n",
    "    legend_title='Country',\n",
    "    template=\"simple_white\",\n",
    "    margin=dict(l=50, r=50, t=50, b=50),\n",
    "    font=dict(family=\"Calibri\", size=14))\n",
    "\n",
    "# Customize toolbar options\n",
    "fig.show(\n",
    "    config={\n",
    "        'displayModeBar': True,\n",
    "        'modeBarButtonsToRemove':\n",
    "        ['pan', 'select', 'lasso2d', 'zoomIn', 'zoomOut'],\n",
    "        'displaylogo': False\n",
    "    })"
   ]
  },
  {
   "cell_type": "markdown",
   "metadata": {},
   "source": [
    "# GDP "
   ]
  },
  {
   "cell_type": "code",
   "execution_count": 1,
   "metadata": {},
   "outputs": [],
   "source": [
    "import pandas as pd"
   ]
  },
  {
   "cell_type": "code",
   "execution_count": 25,
   "metadata": {},
   "outputs": [
    {
     "data": {
      "text/html": [
       "<div>\n",
       "<style scoped>\n",
       "    .dataframe tbody tr th:only-of-type {\n",
       "        vertical-align: middle;\n",
       "    }\n",
       "\n",
       "    .dataframe tbody tr th {\n",
       "        vertical-align: top;\n",
       "    }\n",
       "\n",
       "    .dataframe thead th {\n",
       "        text-align: right;\n",
       "    }\n",
       "</style>\n",
       "<table border=\"1\" class=\"dataframe\">\n",
       "  <thead>\n",
       "    <tr style=\"text-align: right;\">\n",
       "      <th></th>\n",
       "      <th>Country Name</th>\n",
       "      <th>Country Code</th>\n",
       "      <th>Series Name</th>\n",
       "      <th>Series Code</th>\n",
       "      <th>1960 [YR1960]</th>\n",
       "      <th>1961 [YR1961]</th>\n",
       "      <th>1962 [YR1962]</th>\n",
       "      <th>1963 [YR1963]</th>\n",
       "      <th>1964 [YR1964]</th>\n",
       "      <th>1965 [YR1965]</th>\n",
       "      <th>...</th>\n",
       "      <th>2014 [YR2014]</th>\n",
       "      <th>2015 [YR2015]</th>\n",
       "      <th>2016 [YR2016]</th>\n",
       "      <th>2017 [YR2017]</th>\n",
       "      <th>2018 [YR2018]</th>\n",
       "      <th>2019 [YR2019]</th>\n",
       "      <th>2020 [YR2020]</th>\n",
       "      <th>2021 [YR2021]</th>\n",
       "      <th>2022 [YR2022]</th>\n",
       "      <th>2023 [YR2023]</th>\n",
       "    </tr>\n",
       "  </thead>\n",
       "  <tbody>\n",
       "    <tr>\n",
       "      <th>0</th>\n",
       "      <td>China</td>\n",
       "      <td>CHN</td>\n",
       "      <td>GDP per capita, PPP (constant 2021 internation...</td>\n",
       "      <td>NY.GDP.PCAP.PP.KD</td>\n",
       "      <td>..</td>\n",
       "      <td>..</td>\n",
       "      <td>..</td>\n",
       "      <td>..</td>\n",
       "      <td>..</td>\n",
       "      <td>..</td>\n",
       "      <td>...</td>\n",
       "      <td>13696.517495</td>\n",
       "      <td>14575.934790</td>\n",
       "      <td>15485.213005</td>\n",
       "      <td>16461.069930</td>\n",
       "      <td>17490.166730</td>\n",
       "      <td>18465.298945</td>\n",
       "      <td>18833.784703</td>\n",
       "      <td>20406.729658</td>\n",
       "      <td>21019.457231</td>\n",
       "      <td>22135.432456</td>\n",
       "    </tr>\n",
       "    <tr>\n",
       "      <th>2</th>\n",
       "      <td>United States</td>\n",
       "      <td>USA</td>\n",
       "      <td>GDP per capita, PPP (constant 2021 internation...</td>\n",
       "      <td>NY.GDP.PCAP.PP.KD</td>\n",
       "      <td>..</td>\n",
       "      <td>..</td>\n",
       "      <td>..</td>\n",
       "      <td>..</td>\n",
       "      <td>..</td>\n",
       "      <td>..</td>\n",
       "      <td>...</td>\n",
       "      <td>63214.895346</td>\n",
       "      <td>64599.573736</td>\n",
       "      <td>65299.999384</td>\n",
       "      <td>66482.893439</td>\n",
       "      <td>68095.686806</td>\n",
       "      <td>69458.610183</td>\n",
       "      <td>67266.187874</td>\n",
       "      <td>71055.876194</td>\n",
       "      <td>72165.483470</td>\n",
       "      <td>73637.302789</td>\n",
       "    </tr>\n",
       "    <tr>\n",
       "      <th>4</th>\n",
       "      <td>Germany</td>\n",
       "      <td>DEU</td>\n",
       "      <td>GDP per capita, PPP (constant 2021 internation...</td>\n",
       "      <td>NY.GDP.PCAP.PP.KD</td>\n",
       "      <td>..</td>\n",
       "      <td>..</td>\n",
       "      <td>..</td>\n",
       "      <td>..</td>\n",
       "      <td>..</td>\n",
       "      <td>..</td>\n",
       "      <td>...</td>\n",
       "      <td>58981.477768</td>\n",
       "      <td>59345.455625</td>\n",
       "      <td>60181.100217</td>\n",
       "      <td>61563.584091</td>\n",
       "      <td>61981.116071</td>\n",
       "      <td>62506.581559</td>\n",
       "      <td>60065.509789</td>\n",
       "      <td>61939.651585</td>\n",
       "      <td>62605.473039</td>\n",
       "      <td>61909.027309</td>\n",
       "    </tr>\n",
       "    <tr>\n",
       "      <th>6</th>\n",
       "      <td>Japan</td>\n",
       "      <td>JPN</td>\n",
       "      <td>GDP per capita, PPP (constant 2021 internation...</td>\n",
       "      <td>NY.GDP.PCAP.PP.KD</td>\n",
       "      <td>..</td>\n",
       "      <td>..</td>\n",
       "      <td>..</td>\n",
       "      <td>..</td>\n",
       "      <td>..</td>\n",
       "      <td>..</td>\n",
       "      <td>...</td>\n",
       "      <td>42909.005661</td>\n",
       "      <td>43624.927453</td>\n",
       "      <td>43976.266401</td>\n",
       "      <td>44749.638212</td>\n",
       "      <td>45094.733312</td>\n",
       "      <td>44976.508077</td>\n",
       "      <td>43238.296620</td>\n",
       "      <td>44549.338341</td>\n",
       "      <td>45174.731921</td>\n",
       "      <td>46268.417232</td>\n",
       "    </tr>\n",
       "  </tbody>\n",
       "</table>\n",
       "<p>4 rows × 68 columns</p>\n",
       "</div>"
      ],
      "text/plain": [
       "    Country Name Country Code  \\\n",
       "0          China          CHN   \n",
       "2  United States          USA   \n",
       "4        Germany          DEU   \n",
       "6          Japan          JPN   \n",
       "\n",
       "                                         Series Name        Series Code  \\\n",
       "0  GDP per capita, PPP (constant 2021 internation...  NY.GDP.PCAP.PP.KD   \n",
       "2  GDP per capita, PPP (constant 2021 internation...  NY.GDP.PCAP.PP.KD   \n",
       "4  GDP per capita, PPP (constant 2021 internation...  NY.GDP.PCAP.PP.KD   \n",
       "6  GDP per capita, PPP (constant 2021 internation...  NY.GDP.PCAP.PP.KD   \n",
       "\n",
       "  1960 [YR1960] 1961 [YR1961] 1962 [YR1962] 1963 [YR1963] 1964 [YR1964]  \\\n",
       "0            ..            ..            ..            ..            ..   \n",
       "2            ..            ..            ..            ..            ..   \n",
       "4            ..            ..            ..            ..            ..   \n",
       "6            ..            ..            ..            ..            ..   \n",
       "\n",
       "  1965 [YR1965]  ... 2014 [YR2014] 2015 [YR2015] 2016 [YR2016] 2017 [YR2017]  \\\n",
       "0            ..  ...  13696.517495  14575.934790  15485.213005  16461.069930   \n",
       "2            ..  ...  63214.895346  64599.573736  65299.999384  66482.893439   \n",
       "4            ..  ...  58981.477768  59345.455625  60181.100217  61563.584091   \n",
       "6            ..  ...  42909.005661  43624.927453  43976.266401  44749.638212   \n",
       "\n",
       "  2018 [YR2018] 2019 [YR2019] 2020 [YR2020] 2021 [YR2021] 2022 [YR2022]  \\\n",
       "0  17490.166730  18465.298945  18833.784703  20406.729658  21019.457231   \n",
       "2  68095.686806  69458.610183  67266.187874  71055.876194  72165.483470   \n",
       "4  61981.116071  62506.581559  60065.509789  61939.651585  62605.473039   \n",
       "6  45094.733312  44976.508077  43238.296620  44549.338341  45174.731921   \n",
       "\n",
       "  2023 [YR2023]  \n",
       "0  22135.432456  \n",
       "2  73637.302789  \n",
       "4  61909.027309  \n",
       "6  46268.417232  \n",
       "\n",
       "[4 rows x 68 columns]"
      ]
     },
     "execution_count": 25,
     "metadata": {},
     "output_type": "execute_result"
    }
   ],
   "source": [
    "gdp = pd.read_csv('../data/gdp_ppp_china_us.csv')\n",
    "gdp_f = gdp[gdp['Series Code'] == 'NY.GDP.PCAP.PP.KD']\n",
    "gdp_f"
   ]
  },
  {
   "cell_type": "code",
   "execution_count": 26,
   "metadata": {},
   "outputs": [
    {
     "data": {
      "text/html": [
       "<div>\n",
       "<style scoped>\n",
       "    .dataframe tbody tr th:only-of-type {\n",
       "        vertical-align: middle;\n",
       "    }\n",
       "\n",
       "    .dataframe tbody tr th {\n",
       "        vertical-align: top;\n",
       "    }\n",
       "\n",
       "    .dataframe thead th {\n",
       "        text-align: right;\n",
       "    }\n",
       "</style>\n",
       "<table border=\"1\" class=\"dataframe\">\n",
       "  <thead>\n",
       "    <tr style=\"text-align: right;\">\n",
       "      <th></th>\n",
       "      <th>Country Name</th>\n",
       "      <th>Country Code</th>\n",
       "      <th>1960 [YR1960]</th>\n",
       "      <th>1961 [YR1961]</th>\n",
       "      <th>1962 [YR1962]</th>\n",
       "      <th>1963 [YR1963]</th>\n",
       "      <th>1964 [YR1964]</th>\n",
       "      <th>1965 [YR1965]</th>\n",
       "      <th>1966 [YR1966]</th>\n",
       "      <th>1967 [YR1967]</th>\n",
       "      <th>...</th>\n",
       "      <th>2014 [YR2014]</th>\n",
       "      <th>2015 [YR2015]</th>\n",
       "      <th>2016 [YR2016]</th>\n",
       "      <th>2017 [YR2017]</th>\n",
       "      <th>2018 [YR2018]</th>\n",
       "      <th>2019 [YR2019]</th>\n",
       "      <th>2020 [YR2020]</th>\n",
       "      <th>2021 [YR2021]</th>\n",
       "      <th>2022 [YR2022]</th>\n",
       "      <th>2023 [YR2023]</th>\n",
       "    </tr>\n",
       "  </thead>\n",
       "  <tbody>\n",
       "    <tr>\n",
       "      <th>0</th>\n",
       "      <td>China</td>\n",
       "      <td>CHN</td>\n",
       "      <td>..</td>\n",
       "      <td>..</td>\n",
       "      <td>..</td>\n",
       "      <td>..</td>\n",
       "      <td>..</td>\n",
       "      <td>..</td>\n",
       "      <td>..</td>\n",
       "      <td>..</td>\n",
       "      <td>...</td>\n",
       "      <td>13696.517495</td>\n",
       "      <td>14575.934790</td>\n",
       "      <td>15485.213005</td>\n",
       "      <td>16461.069930</td>\n",
       "      <td>17490.166730</td>\n",
       "      <td>18465.298945</td>\n",
       "      <td>18833.784703</td>\n",
       "      <td>20406.729658</td>\n",
       "      <td>21019.457231</td>\n",
       "      <td>22135.432456</td>\n",
       "    </tr>\n",
       "    <tr>\n",
       "      <th>2</th>\n",
       "      <td>United States</td>\n",
       "      <td>USA</td>\n",
       "      <td>..</td>\n",
       "      <td>..</td>\n",
       "      <td>..</td>\n",
       "      <td>..</td>\n",
       "      <td>..</td>\n",
       "      <td>..</td>\n",
       "      <td>..</td>\n",
       "      <td>..</td>\n",
       "      <td>...</td>\n",
       "      <td>63214.895346</td>\n",
       "      <td>64599.573736</td>\n",
       "      <td>65299.999384</td>\n",
       "      <td>66482.893439</td>\n",
       "      <td>68095.686806</td>\n",
       "      <td>69458.610183</td>\n",
       "      <td>67266.187874</td>\n",
       "      <td>71055.876194</td>\n",
       "      <td>72165.483470</td>\n",
       "      <td>73637.302789</td>\n",
       "    </tr>\n",
       "    <tr>\n",
       "      <th>4</th>\n",
       "      <td>Germany</td>\n",
       "      <td>DEU</td>\n",
       "      <td>..</td>\n",
       "      <td>..</td>\n",
       "      <td>..</td>\n",
       "      <td>..</td>\n",
       "      <td>..</td>\n",
       "      <td>..</td>\n",
       "      <td>..</td>\n",
       "      <td>..</td>\n",
       "      <td>...</td>\n",
       "      <td>58981.477768</td>\n",
       "      <td>59345.455625</td>\n",
       "      <td>60181.100217</td>\n",
       "      <td>61563.584091</td>\n",
       "      <td>61981.116071</td>\n",
       "      <td>62506.581559</td>\n",
       "      <td>60065.509789</td>\n",
       "      <td>61939.651585</td>\n",
       "      <td>62605.473039</td>\n",
       "      <td>61909.027309</td>\n",
       "    </tr>\n",
       "    <tr>\n",
       "      <th>6</th>\n",
       "      <td>Japan</td>\n",
       "      <td>JPN</td>\n",
       "      <td>..</td>\n",
       "      <td>..</td>\n",
       "      <td>..</td>\n",
       "      <td>..</td>\n",
       "      <td>..</td>\n",
       "      <td>..</td>\n",
       "      <td>..</td>\n",
       "      <td>..</td>\n",
       "      <td>...</td>\n",
       "      <td>42909.005661</td>\n",
       "      <td>43624.927453</td>\n",
       "      <td>43976.266401</td>\n",
       "      <td>44749.638212</td>\n",
       "      <td>45094.733312</td>\n",
       "      <td>44976.508077</td>\n",
       "      <td>43238.296620</td>\n",
       "      <td>44549.338341</td>\n",
       "      <td>45174.731921</td>\n",
       "      <td>46268.417232</td>\n",
       "    </tr>\n",
       "  </tbody>\n",
       "</table>\n",
       "<p>4 rows × 66 columns</p>\n",
       "</div>"
      ],
      "text/plain": [
       "    Country Name Country Code 1960 [YR1960] 1961 [YR1961] 1962 [YR1962]  \\\n",
       "0          China          CHN            ..            ..            ..   \n",
       "2  United States          USA            ..            ..            ..   \n",
       "4        Germany          DEU            ..            ..            ..   \n",
       "6          Japan          JPN            ..            ..            ..   \n",
       "\n",
       "  1963 [YR1963] 1964 [YR1964] 1965 [YR1965] 1966 [YR1966] 1967 [YR1967]  ...  \\\n",
       "0            ..            ..            ..            ..            ..  ...   \n",
       "2            ..            ..            ..            ..            ..  ...   \n",
       "4            ..            ..            ..            ..            ..  ...   \n",
       "6            ..            ..            ..            ..            ..  ...   \n",
       "\n",
       "  2014 [YR2014] 2015 [YR2015] 2016 [YR2016] 2017 [YR2017] 2018 [YR2018]  \\\n",
       "0  13696.517495  14575.934790  15485.213005  16461.069930  17490.166730   \n",
       "2  63214.895346  64599.573736  65299.999384  66482.893439  68095.686806   \n",
       "4  58981.477768  59345.455625  60181.100217  61563.584091  61981.116071   \n",
       "6  42909.005661  43624.927453  43976.266401  44749.638212  45094.733312   \n",
       "\n",
       "  2019 [YR2019] 2020 [YR2020] 2021 [YR2021] 2022 [YR2022] 2023 [YR2023]  \n",
       "0  18465.298945  18833.784703  20406.729658  21019.457231  22135.432456  \n",
       "2  69458.610183  67266.187874  71055.876194  72165.483470  73637.302789  \n",
       "4  62506.581559  60065.509789  61939.651585  62605.473039  61909.027309  \n",
       "6  44976.508077  43238.296620  44549.338341  45174.731921  46268.417232  \n",
       "\n",
       "[4 rows x 66 columns]"
      ]
     },
     "execution_count": 26,
     "metadata": {},
     "output_type": "execute_result"
    }
   ],
   "source": [
    "gdp_c = gdp_f.drop(columns=['Series Name', 'Series Code'])\n",
    "gdp_c[:4]"
   ]
  },
  {
   "cell_type": "code",
   "execution_count": 30,
   "metadata": {},
   "outputs": [
    {
     "data": {
      "text/html": [
       "<div>\n",
       "<style scoped>\n",
       "    .dataframe tbody tr th:only-of-type {\n",
       "        vertical-align: middle;\n",
       "    }\n",
       "\n",
       "    .dataframe tbody tr th {\n",
       "        vertical-align: top;\n",
       "    }\n",
       "\n",
       "    .dataframe thead th {\n",
       "        text-align: right;\n",
       "    }\n",
       "</style>\n",
       "<table border=\"1\" class=\"dataframe\">\n",
       "  <thead>\n",
       "    <tr style=\"text-align: right;\">\n",
       "      <th></th>\n",
       "      <th>Country Name</th>\n",
       "      <th>Country Code</th>\n",
       "      <th>Year</th>\n",
       "      <th>GDP pc. PPP (constant 2021 int. $)</th>\n",
       "    </tr>\n",
       "  </thead>\n",
       "  <tbody>\n",
       "    <tr>\n",
       "      <th>0</th>\n",
       "      <td>China</td>\n",
       "      <td>CHN</td>\n",
       "      <td>1960 [YR1960]</td>\n",
       "      <td>..</td>\n",
       "    </tr>\n",
       "    <tr>\n",
       "      <th>1</th>\n",
       "      <td>United States</td>\n",
       "      <td>USA</td>\n",
       "      <td>1960 [YR1960]</td>\n",
       "      <td>..</td>\n",
       "    </tr>\n",
       "    <tr>\n",
       "      <th>2</th>\n",
       "      <td>Germany</td>\n",
       "      <td>DEU</td>\n",
       "      <td>1960 [YR1960]</td>\n",
       "      <td>..</td>\n",
       "    </tr>\n",
       "    <tr>\n",
       "      <th>3</th>\n",
       "      <td>Japan</td>\n",
       "      <td>JPN</td>\n",
       "      <td>1960 [YR1960]</td>\n",
       "      <td>..</td>\n",
       "    </tr>\n",
       "    <tr>\n",
       "      <th>4</th>\n",
       "      <td>China</td>\n",
       "      <td>CHN</td>\n",
       "      <td>1961 [YR1961]</td>\n",
       "      <td>..</td>\n",
       "    </tr>\n",
       "    <tr>\n",
       "      <th>...</th>\n",
       "      <td>...</td>\n",
       "      <td>...</td>\n",
       "      <td>...</td>\n",
       "      <td>...</td>\n",
       "    </tr>\n",
       "    <tr>\n",
       "      <th>251</th>\n",
       "      <td>Japan</td>\n",
       "      <td>JPN</td>\n",
       "      <td>2022 [YR2022]</td>\n",
       "      <td>45174.731921</td>\n",
       "    </tr>\n",
       "    <tr>\n",
       "      <th>252</th>\n",
       "      <td>China</td>\n",
       "      <td>CHN</td>\n",
       "      <td>2023 [YR2023]</td>\n",
       "      <td>22135.432456</td>\n",
       "    </tr>\n",
       "    <tr>\n",
       "      <th>253</th>\n",
       "      <td>United States</td>\n",
       "      <td>USA</td>\n",
       "      <td>2023 [YR2023]</td>\n",
       "      <td>73637.302789</td>\n",
       "    </tr>\n",
       "    <tr>\n",
       "      <th>254</th>\n",
       "      <td>Germany</td>\n",
       "      <td>DEU</td>\n",
       "      <td>2023 [YR2023]</td>\n",
       "      <td>61909.027309</td>\n",
       "    </tr>\n",
       "    <tr>\n",
       "      <th>255</th>\n",
       "      <td>Japan</td>\n",
       "      <td>JPN</td>\n",
       "      <td>2023 [YR2023]</td>\n",
       "      <td>46268.417232</td>\n",
       "    </tr>\n",
       "  </tbody>\n",
       "</table>\n",
       "<p>256 rows × 4 columns</p>\n",
       "</div>"
      ],
      "text/plain": [
       "      Country Name Country Code           Year  \\\n",
       "0            China          CHN  1960 [YR1960]   \n",
       "1    United States          USA  1960 [YR1960]   \n",
       "2          Germany          DEU  1960 [YR1960]   \n",
       "3            Japan          JPN  1960 [YR1960]   \n",
       "4            China          CHN  1961 [YR1961]   \n",
       "..             ...          ...            ...   \n",
       "251          Japan          JPN  2022 [YR2022]   \n",
       "252          China          CHN  2023 [YR2023]   \n",
       "253  United States          USA  2023 [YR2023]   \n",
       "254        Germany          DEU  2023 [YR2023]   \n",
       "255          Japan          JPN  2023 [YR2023]   \n",
       "\n",
       "    GDP pc. PPP (constant 2021 int. $)  \n",
       "0                                   ..  \n",
       "1                                   ..  \n",
       "2                                   ..  \n",
       "3                                   ..  \n",
       "4                                   ..  \n",
       "..                                 ...  \n",
       "251                       45174.731921  \n",
       "252                       22135.432456  \n",
       "253                       73637.302789  \n",
       "254                       61909.027309  \n",
       "255                       46268.417232  \n",
       "\n",
       "[256 rows x 4 columns]"
      ]
     },
     "execution_count": 30,
     "metadata": {},
     "output_type": "execute_result"
    }
   ],
   "source": [
    "gdp_m = gdp_c.melt(\n",
    "    id_vars=['Country Name', 'Country Code'],\n",
    "    var_name='Year',\n",
    "    value_name='GDP pc. PPP (constant 2021 int. $)')\n",
    "gdp_m"
   ]
  },
  {
   "cell_type": "code",
   "execution_count": 31,
   "metadata": {},
   "outputs": [
    {
     "data": {
      "text/html": [
       "<div>\n",
       "<style scoped>\n",
       "    .dataframe tbody tr th:only-of-type {\n",
       "        vertical-align: middle;\n",
       "    }\n",
       "\n",
       "    .dataframe tbody tr th {\n",
       "        vertical-align: top;\n",
       "    }\n",
       "\n",
       "    .dataframe thead th {\n",
       "        text-align: right;\n",
       "    }\n",
       "</style>\n",
       "<table border=\"1\" class=\"dataframe\">\n",
       "  <thead>\n",
       "    <tr style=\"text-align: right;\">\n",
       "      <th></th>\n",
       "      <th>Country Name</th>\n",
       "      <th>Country Code</th>\n",
       "      <th>Year</th>\n",
       "      <th>GDP pc. PPP (constant 2021 int. $)</th>\n",
       "    </tr>\n",
       "  </thead>\n",
       "  <tbody>\n",
       "    <tr>\n",
       "      <th>0</th>\n",
       "      <td>China</td>\n",
       "      <td>CHN</td>\n",
       "      <td>1960</td>\n",
       "      <td>..</td>\n",
       "    </tr>\n",
       "    <tr>\n",
       "      <th>1</th>\n",
       "      <td>United States</td>\n",
       "      <td>USA</td>\n",
       "      <td>1960</td>\n",
       "      <td>..</td>\n",
       "    </tr>\n",
       "    <tr>\n",
       "      <th>2</th>\n",
       "      <td>Germany</td>\n",
       "      <td>DEU</td>\n",
       "      <td>1960</td>\n",
       "      <td>..</td>\n",
       "    </tr>\n",
       "    <tr>\n",
       "      <th>3</th>\n",
       "      <td>Japan</td>\n",
       "      <td>JPN</td>\n",
       "      <td>1960</td>\n",
       "      <td>..</td>\n",
       "    </tr>\n",
       "    <tr>\n",
       "      <th>4</th>\n",
       "      <td>China</td>\n",
       "      <td>CHN</td>\n",
       "      <td>1961</td>\n",
       "      <td>..</td>\n",
       "    </tr>\n",
       "    <tr>\n",
       "      <th>...</th>\n",
       "      <td>...</td>\n",
       "      <td>...</td>\n",
       "      <td>...</td>\n",
       "      <td>...</td>\n",
       "    </tr>\n",
       "    <tr>\n",
       "      <th>251</th>\n",
       "      <td>Japan</td>\n",
       "      <td>JPN</td>\n",
       "      <td>2022</td>\n",
       "      <td>45174.731921</td>\n",
       "    </tr>\n",
       "    <tr>\n",
       "      <th>252</th>\n",
       "      <td>China</td>\n",
       "      <td>CHN</td>\n",
       "      <td>2023</td>\n",
       "      <td>22135.432456</td>\n",
       "    </tr>\n",
       "    <tr>\n",
       "      <th>253</th>\n",
       "      <td>United States</td>\n",
       "      <td>USA</td>\n",
       "      <td>2023</td>\n",
       "      <td>73637.302789</td>\n",
       "    </tr>\n",
       "    <tr>\n",
       "      <th>254</th>\n",
       "      <td>Germany</td>\n",
       "      <td>DEU</td>\n",
       "      <td>2023</td>\n",
       "      <td>61909.027309</td>\n",
       "    </tr>\n",
       "    <tr>\n",
       "      <th>255</th>\n",
       "      <td>Japan</td>\n",
       "      <td>JPN</td>\n",
       "      <td>2023</td>\n",
       "      <td>46268.417232</td>\n",
       "    </tr>\n",
       "  </tbody>\n",
       "</table>\n",
       "<p>256 rows × 4 columns</p>\n",
       "</div>"
      ],
      "text/plain": [
       "      Country Name Country Code  Year GDP pc. PPP (constant 2021 int. $)\n",
       "0            China          CHN  1960                                 ..\n",
       "1    United States          USA  1960                                 ..\n",
       "2          Germany          DEU  1960                                 ..\n",
       "3            Japan          JPN  1960                                 ..\n",
       "4            China          CHN  1961                                 ..\n",
       "..             ...          ...   ...                                ...\n",
       "251          Japan          JPN  2022                       45174.731921\n",
       "252          China          CHN  2023                       22135.432456\n",
       "253  United States          USA  2023                       73637.302789\n",
       "254        Germany          DEU  2023                       61909.027309\n",
       "255          Japan          JPN  2023                       46268.417232\n",
       "\n",
       "[256 rows x 4 columns]"
      ]
     },
     "execution_count": 31,
     "metadata": {},
     "output_type": "execute_result"
    }
   ],
   "source": [
    "gdp_m['Year'] = gdp_m['Year'].str.slice(0, 4)\n",
    "gdp_m"
   ]
  },
  {
   "cell_type": "code",
   "execution_count": 33,
   "metadata": {},
   "outputs": [],
   "source": [
    "gdp_m.columns = ['Country', 'Code', 'Year', 'GDP pc. PPP (constant 2021 int. $)']"
   ]
  },
  {
   "cell_type": "code",
   "execution_count": 35,
   "metadata": {},
   "outputs": [
    {
     "data": {
      "text/html": [
       "<div>\n",
       "<style scoped>\n",
       "    .dataframe tbody tr th:only-of-type {\n",
       "        vertical-align: middle;\n",
       "    }\n",
       "\n",
       "    .dataframe tbody tr th {\n",
       "        vertical-align: top;\n",
       "    }\n",
       "\n",
       "    .dataframe thead th {\n",
       "        text-align: right;\n",
       "    }\n",
       "</style>\n",
       "<table border=\"1\" class=\"dataframe\">\n",
       "  <thead>\n",
       "    <tr style=\"text-align: right;\">\n",
       "      <th></th>\n",
       "      <th>Country</th>\n",
       "      <th>Code</th>\n",
       "      <th>Year</th>\n",
       "      <th>GDP pc. PPP (constant 2021 int. $)</th>\n",
       "    </tr>\n",
       "  </thead>\n",
       "  <tbody>\n",
       "    <tr>\n",
       "      <th>0</th>\n",
       "      <td>China</td>\n",
       "      <td>CHN</td>\n",
       "      <td>1960</td>\n",
       "      <td>..</td>\n",
       "    </tr>\n",
       "    <tr>\n",
       "      <th>1</th>\n",
       "      <td>United States</td>\n",
       "      <td>USA</td>\n",
       "      <td>1960</td>\n",
       "      <td>..</td>\n",
       "    </tr>\n",
       "    <tr>\n",
       "      <th>2</th>\n",
       "      <td>Germany</td>\n",
       "      <td>DEU</td>\n",
       "      <td>1960</td>\n",
       "      <td>..</td>\n",
       "    </tr>\n",
       "    <tr>\n",
       "      <th>3</th>\n",
       "      <td>Japan</td>\n",
       "      <td>JPN</td>\n",
       "      <td>1960</td>\n",
       "      <td>..</td>\n",
       "    </tr>\n",
       "    <tr>\n",
       "      <th>4</th>\n",
       "      <td>China</td>\n",
       "      <td>CHN</td>\n",
       "      <td>1961</td>\n",
       "      <td>..</td>\n",
       "    </tr>\n",
       "    <tr>\n",
       "      <th>...</th>\n",
       "      <td>...</td>\n",
       "      <td>...</td>\n",
       "      <td>...</td>\n",
       "      <td>...</td>\n",
       "    </tr>\n",
       "    <tr>\n",
       "      <th>251</th>\n",
       "      <td>Japan</td>\n",
       "      <td>JPN</td>\n",
       "      <td>2022</td>\n",
       "      <td>45174.731921</td>\n",
       "    </tr>\n",
       "    <tr>\n",
       "      <th>252</th>\n",
       "      <td>China</td>\n",
       "      <td>CHN</td>\n",
       "      <td>2023</td>\n",
       "      <td>22135.432456</td>\n",
       "    </tr>\n",
       "    <tr>\n",
       "      <th>253</th>\n",
       "      <td>United States</td>\n",
       "      <td>USA</td>\n",
       "      <td>2023</td>\n",
       "      <td>73637.302789</td>\n",
       "    </tr>\n",
       "    <tr>\n",
       "      <th>254</th>\n",
       "      <td>Germany</td>\n",
       "      <td>DEU</td>\n",
       "      <td>2023</td>\n",
       "      <td>61909.027309</td>\n",
       "    </tr>\n",
       "    <tr>\n",
       "      <th>255</th>\n",
       "      <td>Japan</td>\n",
       "      <td>JPN</td>\n",
       "      <td>2023</td>\n",
       "      <td>46268.417232</td>\n",
       "    </tr>\n",
       "  </tbody>\n",
       "</table>\n",
       "<p>256 rows × 4 columns</p>\n",
       "</div>"
      ],
      "text/plain": [
       "           Country Code  Year GDP pc. PPP (constant 2021 int. $)\n",
       "0            China  CHN  1960                                 ..\n",
       "1    United States  USA  1960                                 ..\n",
       "2          Germany  DEU  1960                                 ..\n",
       "3            Japan  JPN  1960                                 ..\n",
       "4            China  CHN  1961                                 ..\n",
       "..             ...  ...   ...                                ...\n",
       "251          Japan  JPN  2022                       45174.731921\n",
       "252          China  CHN  2023                       22135.432456\n",
       "253  United States  USA  2023                       73637.302789\n",
       "254        Germany  DEU  2023                       61909.027309\n",
       "255          Japan  JPN  2023                       46268.417232\n",
       "\n",
       "[256 rows x 4 columns]"
      ]
     },
     "execution_count": 35,
     "metadata": {},
     "output_type": "execute_result"
    }
   ],
   "source": [
    "gdp_m"
   ]
  },
  {
   "cell_type": "code",
   "execution_count": 34,
   "metadata": {},
   "outputs": [],
   "source": [
    "gdp_m.to_csv('../data/gdp_ppp_int2021_clean.csv')"
   ]
  },
  {
   "cell_type": "markdown",
   "metadata": {},
   "source": [
    "# Gdp growth"
   ]
  },
  {
   "cell_type": "code",
   "execution_count": 36,
   "metadata": {},
   "outputs": [],
   "source": [
    "gdp_growth = pd.read_csv('../data/gdp_growth.csv') "
   ]
  },
  {
   "cell_type": "code",
   "execution_count": 41,
   "metadata": {},
   "outputs": [
    {
     "data": {
      "text/html": [
       "<div>\n",
       "<style scoped>\n",
       "    .dataframe tbody tr th:only-of-type {\n",
       "        vertical-align: middle;\n",
       "    }\n",
       "\n",
       "    .dataframe tbody tr th {\n",
       "        vertical-align: top;\n",
       "    }\n",
       "\n",
       "    .dataframe thead th {\n",
       "        text-align: right;\n",
       "    }\n",
       "</style>\n",
       "<table border=\"1\" class=\"dataframe\">\n",
       "  <thead>\n",
       "    <tr style=\"text-align: right;\">\n",
       "      <th></th>\n",
       "      <th>Country</th>\n",
       "      <th>Code</th>\n",
       "      <th>Year</th>\n",
       "      <th>GDP growth</th>\n",
       "    </tr>\n",
       "  </thead>\n",
       "  <tbody>\n",
       "    <tr>\n",
       "      <th>0</th>\n",
       "      <td>China</td>\n",
       "      <td>CHN</td>\n",
       "      <td>1960</td>\n",
       "      <td>..</td>\n",
       "    </tr>\n",
       "    <tr>\n",
       "      <th>1</th>\n",
       "      <td>Germany</td>\n",
       "      <td>DEU</td>\n",
       "      <td>1960</td>\n",
       "      <td>..</td>\n",
       "    </tr>\n",
       "    <tr>\n",
       "      <th>2</th>\n",
       "      <td>Japan</td>\n",
       "      <td>JPN</td>\n",
       "      <td>1960</td>\n",
       "      <td>..</td>\n",
       "    </tr>\n",
       "    <tr>\n",
       "      <th>3</th>\n",
       "      <td>India</td>\n",
       "      <td>IND</td>\n",
       "      <td>1960</td>\n",
       "      <td>..</td>\n",
       "    </tr>\n",
       "    <tr>\n",
       "      <th>4</th>\n",
       "      <td>Russian Federation</td>\n",
       "      <td>RUS</td>\n",
       "      <td>1960</td>\n",
       "      <td>..</td>\n",
       "    </tr>\n",
       "    <tr>\n",
       "      <th>...</th>\n",
       "      <td>...</td>\n",
       "      <td>...</td>\n",
       "      <td>...</td>\n",
       "      <td>...</td>\n",
       "    </tr>\n",
       "    <tr>\n",
       "      <th>507</th>\n",
       "      <td>India</td>\n",
       "      <td>IND</td>\n",
       "      <td>2023</td>\n",
       "      <td>7.583971</td>\n",
       "    </tr>\n",
       "    <tr>\n",
       "      <th>508</th>\n",
       "      <td>Russian Federation</td>\n",
       "      <td>RUS</td>\n",
       "      <td>2023</td>\n",
       "      <td>3.6</td>\n",
       "    </tr>\n",
       "    <tr>\n",
       "      <th>509</th>\n",
       "      <td>Brazil</td>\n",
       "      <td>BRA</td>\n",
       "      <td>2023</td>\n",
       "      <td>2.90848</td>\n",
       "    </tr>\n",
       "    <tr>\n",
       "      <th>510</th>\n",
       "      <td>United States</td>\n",
       "      <td>USA</td>\n",
       "      <td>2023</td>\n",
       "      <td>2.5427</td>\n",
       "    </tr>\n",
       "    <tr>\n",
       "      <th>511</th>\n",
       "      <td>Israel</td>\n",
       "      <td>ISR</td>\n",
       "      <td>2023</td>\n",
       "      <td>1.99704</td>\n",
       "    </tr>\n",
       "  </tbody>\n",
       "</table>\n",
       "<p>512 rows × 4 columns</p>\n",
       "</div>"
      ],
      "text/plain": [
       "                Country Code  Year GDP growth\n",
       "0                 China  CHN  1960         ..\n",
       "1               Germany  DEU  1960         ..\n",
       "2                 Japan  JPN  1960         ..\n",
       "3                 India  IND  1960         ..\n",
       "4    Russian Federation  RUS  1960         ..\n",
       "..                  ...  ...   ...        ...\n",
       "507               India  IND  2023   7.583971\n",
       "508  Russian Federation  RUS  2023        3.6\n",
       "509              Brazil  BRA  2023    2.90848\n",
       "510       United States  USA  2023     2.5427\n",
       "511              Israel  ISR  2023    1.99704\n",
       "\n",
       "[512 rows x 4 columns]"
      ]
     },
     "execution_count": 41,
     "metadata": {},
     "output_type": "execute_result"
    }
   ],
   "source": [
    "gdp_gm = gdp_growth.melt(id_vars=['Country Name', 'Country Code'], var_name='Year', value_name='GDP growth')\n",
    "gdp_gm['Year'] = gdp_gm['Year'].str.slice(0, 4)\n",
    "gdp_gm.columns = ['Country', 'Code', 'Year', 'GDP growth']\n",
    "gdp_gm"
   ]
  },
  {
   "cell_type": "code",
   "execution_count": 45,
   "metadata": {},
   "outputs": [
    {
     "data": {
      "text/plain": [
       "Country        object\n",
       "Code           object\n",
       "Year            int64\n",
       "GDP growth    float64\n",
       "dtype: object"
      ]
     },
     "execution_count": 45,
     "metadata": {},
     "output_type": "execute_result"
    }
   ],
   "source": [
    "cols = ['Year',\t'GDP growth']\n",
    "gdp_gm[cols] = gdp_gm[cols].apply(pd.to_numeric, errors='coerce')\n",
    "gdp_gm.dtypes"
   ]
  },
  {
   "cell_type": "code",
   "execution_count": 46,
   "metadata": {},
   "outputs": [],
   "source": [
    "gdp_gm.to_csv('../data/gdp_growth_clean.csv')"
   ]
  },
  {
   "cell_type": "markdown",
   "metadata": {},
   "source": [
    "# GDP constant 2015 $"
   ]
  },
  {
   "cell_type": "code",
   "execution_count": 59,
   "metadata": {},
   "outputs": [
    {
     "data": {
      "text/html": [
       "<div>\n",
       "<style scoped>\n",
       "    .dataframe tbody tr th:only-of-type {\n",
       "        vertical-align: middle;\n",
       "    }\n",
       "\n",
       "    .dataframe tbody tr th {\n",
       "        vertical-align: top;\n",
       "    }\n",
       "\n",
       "    .dataframe thead th {\n",
       "        text-align: right;\n",
       "    }\n",
       "</style>\n",
       "<table border=\"1\" class=\"dataframe\">\n",
       "  <thead>\n",
       "    <tr style=\"text-align: right;\">\n",
       "      <th></th>\n",
       "      <th>Country Name</th>\n",
       "      <th>Country Code</th>\n",
       "      <th>Series Name</th>\n",
       "      <th>Series Code</th>\n",
       "      <th>1960 [YR1960]</th>\n",
       "      <th>1961 [YR1961]</th>\n",
       "      <th>1962 [YR1962]</th>\n",
       "      <th>1963 [YR1963]</th>\n",
       "      <th>1964 [YR1964]</th>\n",
       "      <th>1965 [YR1965]</th>\n",
       "      <th>...</th>\n",
       "      <th>2014 [YR2014]</th>\n",
       "      <th>2015 [YR2015]</th>\n",
       "      <th>2016 [YR2016]</th>\n",
       "      <th>2017 [YR2017]</th>\n",
       "      <th>2018 [YR2018]</th>\n",
       "      <th>2019 [YR2019]</th>\n",
       "      <th>2020 [YR2020]</th>\n",
       "      <th>2021 [YR2021]</th>\n",
       "      <th>2022 [YR2022]</th>\n",
       "      <th>2023 [YR2023]</th>\n",
       "    </tr>\n",
       "  </thead>\n",
       "  <tbody>\n",
       "    <tr>\n",
       "      <th>0</th>\n",
       "      <td>European Union</td>\n",
       "      <td>EUU</td>\n",
       "      <td>GDP (constant 2015 US$)</td>\n",
       "      <td>NY.GDP.MKTP.KD</td>\n",
       "      <td>3071476147846.36</td>\n",
       "      <td>3248241322107.7</td>\n",
       "      <td>3433227252343.22</td>\n",
       "      <td>3598287726297.04</td>\n",
       "      <td>3814594637346.63</td>\n",
       "      <td>4014835317433.71</td>\n",
       "      <td>...</td>\n",
       "      <td>1.324795e+13</td>\n",
       "      <td>1.355390e+13</td>\n",
       "      <td>1.382122e+13</td>\n",
       "      <td>1.421440e+13</td>\n",
       "      <td>1.450820e+13</td>\n",
       "      <td>1.477012e+13</td>\n",
       "      <td>1.393519e+13</td>\n",
       "      <td>1.477251e+13</td>\n",
       "      <td>1.528640e+13</td>\n",
       "      <td>1.535529e+13</td>\n",
       "    </tr>\n",
       "    <tr>\n",
       "      <th>1</th>\n",
       "      <td>Russian Federation</td>\n",
       "      <td>RUS</td>\n",
       "      <td>GDP (constant 2015 US$)</td>\n",
       "      <td>NY.GDP.MKTP.KD</td>\n",
       "      <td>..</td>\n",
       "      <td>..</td>\n",
       "      <td>..</td>\n",
       "      <td>..</td>\n",
       "      <td>..</td>\n",
       "      <td>..</td>\n",
       "      <td>...</td>\n",
       "      <td>1.390921e+12</td>\n",
       "      <td>1.363482e+12</td>\n",
       "      <td>1.366123e+12</td>\n",
       "      <td>1.391066e+12</td>\n",
       "      <td>1.430116e+12</td>\n",
       "      <td>1.461551e+12</td>\n",
       "      <td>1.422767e+12</td>\n",
       "      <td>1.502645e+12</td>\n",
       "      <td>1.471545e+12</td>\n",
       "      <td>1.524520e+12</td>\n",
       "    </tr>\n",
       "    <tr>\n",
       "      <th>2</th>\n",
       "      <td>China</td>\n",
       "      <td>CHN</td>\n",
       "      <td>GDP (constant 2015 US$)</td>\n",
       "      <td>NY.GDP.MKTP.KD</td>\n",
       "      <td>158907448897.886</td>\n",
       "      <td>115573387577.199</td>\n",
       "      <td>109124392561.714</td>\n",
       "      <td>120364204991.728</td>\n",
       "      <td>142246417451.67</td>\n",
       "      <td>166357185215.362</td>\n",
       "      <td>...</td>\n",
       "      <td>1.033393e+13</td>\n",
       "      <td>1.106157e+13</td>\n",
       "      <td>1.181915e+13</td>\n",
       "      <td>1.264025e+13</td>\n",
       "      <td>1.349344e+13</td>\n",
       "      <td>1.429637e+13</td>\n",
       "      <td>1.461641e+13</td>\n",
       "      <td>1.585128e+13</td>\n",
       "      <td>1.632508e+13</td>\n",
       "      <td>1.717399e+13</td>\n",
       "    </tr>\n",
       "    <tr>\n",
       "      <th>3</th>\n",
       "      <td>United States</td>\n",
       "      <td>USA</td>\n",
       "      <td>GDP (constant 2015 US$)</td>\n",
       "      <td>NY.GDP.MKTP.KD</td>\n",
       "      <td>3431221354895.04</td>\n",
       "      <td>3510139446057.61</td>\n",
       "      <td>3724257952267.13</td>\n",
       "      <td>3888125302166.88</td>\n",
       "      <td>4113636569692.57</td>\n",
       "      <td>4376909310152.89</td>\n",
       "      <td>...</td>\n",
       "      <td>1.777155e+13</td>\n",
       "      <td>1.829502e+13</td>\n",
       "      <td>1.862789e+13</td>\n",
       "      <td>1.908569e+13</td>\n",
       "      <td>1.965187e+13</td>\n",
       "      <td>2.013669e+13</td>\n",
       "      <td>1.969097e+13</td>\n",
       "      <td>2.083309e+13</td>\n",
       "      <td>2.123631e+13</td>\n",
       "      <td>2.177628e+13</td>\n",
       "    </tr>\n",
       "    <tr>\n",
       "      <th>4</th>\n",
       "      <td>NaN</td>\n",
       "      <td>NaN</td>\n",
       "      <td>NaN</td>\n",
       "      <td>NaN</td>\n",
       "      <td>NaN</td>\n",
       "      <td>NaN</td>\n",
       "      <td>NaN</td>\n",
       "      <td>NaN</td>\n",
       "      <td>NaN</td>\n",
       "      <td>NaN</td>\n",
       "      <td>...</td>\n",
       "      <td>NaN</td>\n",
       "      <td>NaN</td>\n",
       "      <td>NaN</td>\n",
       "      <td>NaN</td>\n",
       "      <td>NaN</td>\n",
       "      <td>NaN</td>\n",
       "      <td>NaN</td>\n",
       "      <td>NaN</td>\n",
       "      <td>NaN</td>\n",
       "      <td>NaN</td>\n",
       "    </tr>\n",
       "    <tr>\n",
       "      <th>5</th>\n",
       "      <td>NaN</td>\n",
       "      <td>NaN</td>\n",
       "      <td>NaN</td>\n",
       "      <td>NaN</td>\n",
       "      <td>NaN</td>\n",
       "      <td>NaN</td>\n",
       "      <td>NaN</td>\n",
       "      <td>NaN</td>\n",
       "      <td>NaN</td>\n",
       "      <td>NaN</td>\n",
       "      <td>...</td>\n",
       "      <td>NaN</td>\n",
       "      <td>NaN</td>\n",
       "      <td>NaN</td>\n",
       "      <td>NaN</td>\n",
       "      <td>NaN</td>\n",
       "      <td>NaN</td>\n",
       "      <td>NaN</td>\n",
       "      <td>NaN</td>\n",
       "      <td>NaN</td>\n",
       "      <td>NaN</td>\n",
       "    </tr>\n",
       "    <tr>\n",
       "      <th>6</th>\n",
       "      <td>NaN</td>\n",
       "      <td>NaN</td>\n",
       "      <td>NaN</td>\n",
       "      <td>NaN</td>\n",
       "      <td>NaN</td>\n",
       "      <td>NaN</td>\n",
       "      <td>NaN</td>\n",
       "      <td>NaN</td>\n",
       "      <td>NaN</td>\n",
       "      <td>NaN</td>\n",
       "      <td>...</td>\n",
       "      <td>NaN</td>\n",
       "      <td>NaN</td>\n",
       "      <td>NaN</td>\n",
       "      <td>NaN</td>\n",
       "      <td>NaN</td>\n",
       "      <td>NaN</td>\n",
       "      <td>NaN</td>\n",
       "      <td>NaN</td>\n",
       "      <td>NaN</td>\n",
       "      <td>NaN</td>\n",
       "    </tr>\n",
       "  </tbody>\n",
       "</table>\n",
       "<p>7 rows × 68 columns</p>\n",
       "</div>"
      ],
      "text/plain": [
       "         Country Name Country Code              Series Name     Series Code  \\\n",
       "0      European Union          EUU  GDP (constant 2015 US$)  NY.GDP.MKTP.KD   \n",
       "1  Russian Federation          RUS  GDP (constant 2015 US$)  NY.GDP.MKTP.KD   \n",
       "2               China          CHN  GDP (constant 2015 US$)  NY.GDP.MKTP.KD   \n",
       "3       United States          USA  GDP (constant 2015 US$)  NY.GDP.MKTP.KD   \n",
       "4                 NaN          NaN                      NaN             NaN   \n",
       "5                 NaN          NaN                      NaN             NaN   \n",
       "6                 NaN          NaN                      NaN             NaN   \n",
       "\n",
       "      1960 [YR1960]     1961 [YR1961]     1962 [YR1962]     1963 [YR1963]  \\\n",
       "0  3071476147846.36   3248241322107.7  3433227252343.22  3598287726297.04   \n",
       "1                ..                ..                ..                ..   \n",
       "2  158907448897.886  115573387577.199  109124392561.714  120364204991.728   \n",
       "3  3431221354895.04  3510139446057.61  3724257952267.13  3888125302166.88   \n",
       "4               NaN               NaN               NaN               NaN   \n",
       "5               NaN               NaN               NaN               NaN   \n",
       "6               NaN               NaN               NaN               NaN   \n",
       "\n",
       "      1964 [YR1964]     1965 [YR1965]  ... 2014 [YR2014] 2015 [YR2015]  \\\n",
       "0  3814594637346.63  4014835317433.71  ...  1.324795e+13  1.355390e+13   \n",
       "1                ..                ..  ...  1.390921e+12  1.363482e+12   \n",
       "2   142246417451.67  166357185215.362  ...  1.033393e+13  1.106157e+13   \n",
       "3  4113636569692.57  4376909310152.89  ...  1.777155e+13  1.829502e+13   \n",
       "4               NaN               NaN  ...           NaN           NaN   \n",
       "5               NaN               NaN  ...           NaN           NaN   \n",
       "6               NaN               NaN  ...           NaN           NaN   \n",
       "\n",
       "  2016 [YR2016] 2017 [YR2017] 2018 [YR2018] 2019 [YR2019] 2020 [YR2020]  \\\n",
       "0  1.382122e+13  1.421440e+13  1.450820e+13  1.477012e+13  1.393519e+13   \n",
       "1  1.366123e+12  1.391066e+12  1.430116e+12  1.461551e+12  1.422767e+12   \n",
       "2  1.181915e+13  1.264025e+13  1.349344e+13  1.429637e+13  1.461641e+13   \n",
       "3  1.862789e+13  1.908569e+13  1.965187e+13  2.013669e+13  1.969097e+13   \n",
       "4           NaN           NaN           NaN           NaN           NaN   \n",
       "5           NaN           NaN           NaN           NaN           NaN   \n",
       "6           NaN           NaN           NaN           NaN           NaN   \n",
       "\n",
       "  2021 [YR2021] 2022 [YR2022] 2023 [YR2023]  \n",
       "0  1.477251e+13  1.528640e+13  1.535529e+13  \n",
       "1  1.502645e+12  1.471545e+12  1.524520e+12  \n",
       "2  1.585128e+13  1.632508e+13  1.717399e+13  \n",
       "3  2.083309e+13  2.123631e+13  2.177628e+13  \n",
       "4           NaN           NaN           NaN  \n",
       "5           NaN           NaN           NaN  \n",
       "6           NaN           NaN           NaN  \n",
       "\n",
       "[7 rows x 68 columns]"
      ]
     },
     "execution_count": 59,
     "metadata": {},
     "output_type": "execute_result"
    }
   ],
   "source": [
    "gdp_const = pd.read_csv('../data/worldbank_indicators/gdp_constant 2015$.csv')\n",
    "\n",
    "gdp_const = gdp_const[:4]\n",
    "# gdp_const = gdp_const.drop(columns=['Series Name', 'Country Code', 'Series Code'])\n",
    "gdp_const_m = gdp_const.melt(id_vars=['Country Name'],\n",
    "                        var_name='Year',\n",
    "                        value_name='GDP (constant 2015 US$)')\n",
    "gdp_const_m.Year = gdp_const_m.Year.str.slice(0,4)\n",
    "gdp_const_m"
   ]
  },
  {
   "cell_type": "code",
   "execution_count": 63,
   "metadata": {},
   "outputs": [],
   "source": [
    "gdp_const_m.to_csv('../data/worldbank_indicators/gdp_constant_2015_clean.csv')"
   ]
  },
  {
   "cell_type": "markdown",
   "metadata": {},
   "source": [
    "# Population figures"
   ]
  },
  {
   "cell_type": "code",
   "execution_count": null,
   "metadata": {},
   "outputs": [],
   "source": []
  },
  {
   "cell_type": "code",
   "execution_count": 86,
   "metadata": {},
   "outputs": [
    {
     "data": {
      "text/plain": [
       "array(['Population growth (annual %)', 'Population in largest city',\n",
       "       'Population in the largest city (% of urban population)',\n",
       "       'Population living in slums (% of urban population)', None,\n",
       "       'Poverty headcount ratio at $2.15 a day (2017 PPP) (% of population)',\n",
       "       'Poverty headcount ratio at $3.65 a day (2017 PPP) (% of population)',\n",
       "       'Poverty headcount ratio at $6.85 a day (2017 PPP) (% of population)',\n",
       "       nan], dtype=object)"
      ]
     },
     "execution_count": 86,
     "metadata": {},
     "output_type": "execute_result"
    }
   ],
   "source": [
    "# pop = pd.read_csv('../data/worldbank_indicators/Population Figures (C, R, US, EU).csv')\n",
    "\n",
    "import pandas as pd\n",
    "\n",
    "# Read the CSV file\n",
    "pop_2 = pd.read_csv(\n",
    "    \"../data/worldbank_indicators/Population Figures (C, R, US, EU).csv\",  # Replace with your file path\n",
    "    quotechar='\"',  # Handles quoted fields\n",
    "    delimiter=',',  # Comma as the delimiter\n",
    "    skipinitialspace=True,  # Removes extra spaces after delimiter\n",
    "    engine='python',  # Use the Python engine for complex files\n",
    "    on_bad_lines='skip',  # Skips bad lines (if any)\n",
    ")\n",
    "\n",
    "pop_2['Series Name'].unique()"
   ]
  },
  {
   "cell_type": "code",
   "execution_count": 27,
   "metadata": {},
   "outputs": [],
   "source": [
    "import wbgapi as wb\n",
    "import pandas as pd"
   ]
  },
  {
   "cell_type": "code",
   "execution_count": 99,
   "metadata": {},
   "outputs": [],
   "source": [
    "def get_country_names(economy_ids, index, time):\n",
    "\n",
    "    df = wb.data.DataFrame(series=index,\n",
    "                           economy=economy_ids,\n",
    "                           labels=True,\n",
    "                           time=time,\n",
    "                           skipBlanks=True,\n",
    "                           columns='series').reset_index()\n",
    "\n",
    "    df['Year'] = df['time'].str.slice(2, 6)\n",
    "    df.drop(columns=['time'], inplace=True)\n",
    "\n",
    "    # Get the series index names\n",
    "    index_names = wb.series.info(index)\n",
    "\n",
    "    # Create a mapping for series ID to descriptive names\n",
    "    index_dict = {item['id']: item['value'] for item in index_names.items}\n",
    "\n",
    "    # Rename the index columns using the mapping\n",
    "    df.rename(columns=index_dict, inplace=True)\n",
    "\n",
    "    # Reorder the DataFrame\n",
    "    df = df[['Country', 'Year'] + [index_dict.get(idx, idx) for idx in index]]\n",
    "\n",
    "    return df"
   ]
  },
  {
   "cell_type": "code",
   "execution_count": 138,
   "metadata": {},
   "outputs": [
    {
     "data": {
      "text/html": [
       "<div>\n",
       "<style scoped>\n",
       "    .dataframe tbody tr th:only-of-type {\n",
       "        vertical-align: middle;\n",
       "    }\n",
       "\n",
       "    .dataframe tbody tr th {\n",
       "        vertical-align: top;\n",
       "    }\n",
       "\n",
       "    .dataframe thead th {\n",
       "        text-align: right;\n",
       "    }\n",
       "</style>\n",
       "<table border=\"1\" class=\"dataframe\">\n",
       "  <thead>\n",
       "    <tr style=\"text-align: right;\">\n",
       "      <th></th>\n",
       "      <th>Country</th>\n",
       "      <th>Year</th>\n",
       "      <th>Merchandise exports (current US$)</th>\n",
       "    </tr>\n",
       "  </thead>\n",
       "  <tbody>\n",
       "    <tr>\n",
       "      <th>0</th>\n",
       "      <td>China</td>\n",
       "      <td>2000</td>\n",
       "      <td>2.492030e+11</td>\n",
       "    </tr>\n",
       "    <tr>\n",
       "      <th>1</th>\n",
       "      <td>China</td>\n",
       "      <td>2001</td>\n",
       "      <td>2.660980e+11</td>\n",
       "    </tr>\n",
       "    <tr>\n",
       "      <th>2</th>\n",
       "      <td>China</td>\n",
       "      <td>2002</td>\n",
       "      <td>3.255960e+11</td>\n",
       "    </tr>\n",
       "    <tr>\n",
       "      <th>3</th>\n",
       "      <td>China</td>\n",
       "      <td>2003</td>\n",
       "      <td>4.382280e+11</td>\n",
       "    </tr>\n",
       "    <tr>\n",
       "      <th>4</th>\n",
       "      <td>China</td>\n",
       "      <td>2004</td>\n",
       "      <td>5.933260e+11</td>\n",
       "    </tr>\n",
       "    <tr>\n",
       "      <th>...</th>\n",
       "      <td>...</td>\n",
       "      <td>...</td>\n",
       "      <td>...</td>\n",
       "    </tr>\n",
       "    <tr>\n",
       "      <th>115</th>\n",
       "      <td>United States</td>\n",
       "      <td>2019</td>\n",
       "      <td>1.643161e+12</td>\n",
       "    </tr>\n",
       "    <tr>\n",
       "      <th>116</th>\n",
       "      <td>United States</td>\n",
       "      <td>2020</td>\n",
       "      <td>1.424935e+12</td>\n",
       "    </tr>\n",
       "    <tr>\n",
       "      <th>117</th>\n",
       "      <td>United States</td>\n",
       "      <td>2021</td>\n",
       "      <td>1.754300e+12</td>\n",
       "    </tr>\n",
       "    <tr>\n",
       "      <th>118</th>\n",
       "      <td>United States</td>\n",
       "      <td>2022</td>\n",
       "      <td>2.065157e+12</td>\n",
       "    </tr>\n",
       "    <tr>\n",
       "      <th>119</th>\n",
       "      <td>United States</td>\n",
       "      <td>2023</td>\n",
       "      <td>2.019542e+12</td>\n",
       "    </tr>\n",
       "  </tbody>\n",
       "</table>\n",
       "<p>120 rows × 3 columns</p>\n",
       "</div>"
      ],
      "text/plain": [
       "           Country  Year  Merchandise exports (current US$)\n",
       "0            China  2000                       2.492030e+11\n",
       "1            China  2001                       2.660980e+11\n",
       "2            China  2002                       3.255960e+11\n",
       "3            China  2003                       4.382280e+11\n",
       "4            China  2004                       5.933260e+11\n",
       "..             ...   ...                                ...\n",
       "115  United States  2019                       1.643161e+12\n",
       "116  United States  2020                       1.424935e+12\n",
       "117  United States  2021                       1.754300e+12\n",
       "118  United States  2022                       2.065157e+12\n",
       "119  United States  2023                       2.019542e+12\n",
       "\n",
       "[120 rows x 3 columns]"
      ]
     },
     "execution_count": 138,
     "metadata": {},
     "output_type": "execute_result"
    }
   ],
   "source": [
    "economy_ids = ['CHN', 'RUS', 'EUU', 'USA', 'IND']\n",
    "index = ['TX.VAL.MRCH.CD.WT']\n",
    "time = range(2000, 2024)\n",
    "\n",
    "df = get_country_names(economy_ids, index, time)\n",
    "df"
   ]
  },
  {
   "cell_type": "code",
   "execution_count": 112,
   "metadata": {},
   "outputs": [],
   "source": [
    "df.to_csv('../data/worldbank_indicators/research_expenditure.csv')\n",
    "df.to_csv('../Visualizations/D3/data/research_expenditure.csv')"
   ]
  },
  {
   "cell_type": "markdown",
   "metadata": {},
   "source": [
    "# Merchandise Exports 2000 and 2023"
   ]
  },
  {
   "cell_type": "code",
   "execution_count": 117,
   "metadata": {},
   "outputs": [
    {
     "data": {
      "text/html": [
       "<div class=\"wbgapi\"><table>\n",
       "<thead>\n",
       "<tr><th>id               </th><th>value                            </th></tr>\n",
       "</thead>\n",
       "<tbody>\n",
       "<tr><td>TX.VAL.MRCH.CD.WT</td><td>Merchandise exports (current US$)</td></tr>\n",
       "<tr><td>                 </td><td>1 elements                       </td></tr>\n",
       "</tbody>\n",
       "</table></div>"
      ],
      "text/plain": [
       "id                 value\n",
       "-----------------  ---------------------------------\n",
       "TX.VAL.MRCH.CD.WT  Merchandise exports (current US$)\n",
       "                   1 elements"
      ]
     },
     "execution_count": 117,
     "metadata": {},
     "output_type": "execute_result"
    }
   ],
   "source": [
    "# wb.series.info(q='Merchandise exports')\n",
    "wb.series.info('TX.VAL.MRCH.CD.WT')\n",
    "# wb.economy.info()"
   ]
  },
  {
   "cell_type": "code",
   "execution_count": 209,
   "metadata": {},
   "outputs": [],
   "source": [
    "index = 'TX.VAL.MRCH.CD.WT'\n",
    "time = [2000, 2023]\n",
    "\n",
    "df = wb.data.DataFrame(series=index,\n",
    "                       labels=True,\n",
    "                       time=time,\n",
    "                       skipBlanks=True,\n",
    "                       columns='series').reset_index()\n",
    "\n",
    "# get wb economy info\n",
    "economy = wb.economy.info()\n",
    "\n",
    "country_names = [{\n",
    "    'id': item['id'],\n",
    "    'name': item['value'],\n",
    "    'region': item['region'],\n",
    "    'incomeLevel': item['incomeLevel']\n",
    "} for item in economy.items]\n",
    "\n",
    "# change wb series to df and filter for countries only\n",
    "country_names = pd.DataFrame(country_names, columns=['id', 'name', 'region', 'incomeLevel'])\n",
    "countries = country_names[(country_names['region'] != '') & (country_names['incomeLevel'] !='')]\n",
    "\n",
    "merch_export_2020 = df.query(\"time=='YR2000'\")\n",
    "merch_export_2023 = df.query(\"time=='YR2023'\").sort_values(by=index, ascending=False)\n",
    "\n",
    "merch_export_2020_top10 = merch_export_2020[merch_export_2020.Country.isin(countries.name)].sort_values(\n",
    "    by=index, ascending=False)[:10]\n",
    "\n",
    "merch_export_2023_top10 = merch_export_2023[merch_export_2023.Country.isin(\n",
    "    countries.name)].sort_values(by=index, ascending=False)[:10]"
   ]
  },
  {
   "cell_type": "code",
   "execution_count": 240,
   "metadata": {},
   "outputs": [],
   "source": [
    "def clean_wb_df(df, index):\n",
    "\n",
    "    # Normalize index to be a list if it's a single string\n",
    "    if isinstance(index, str):\n",
    "        index = [index]\n",
    "        \n",
    "    # Ensure 'Year' is extracted from 'time' column\n",
    "    if 'time' in df.columns:\n",
    "        df['Year'] = df['time'].str.slice(2, 6)\n",
    "        df.drop(columns=['time'], inplace=True)\n",
    "\n",
    "    if 'Time' in df.columns:\n",
    "        df.drop(columns=['Time'], inplace=True)\n",
    "\n",
    "    index_names = wb.series.info(index)\n",
    "    index_dict = {item['id']: item['value'] for item in index_names.items}\n",
    "    df.rename(columns=index_dict, inplace=True)\n",
    "\n",
    "    # Handle cases where multiple series exist\n",
    "    renamed_columns = [index_dict.get(idx, idx) for idx in index]\n",
    "    df = df[['Country', 'Year'] + renamed_columns]\n",
    "\n",
    "    return df\n",
    "\n",
    "\n",
    "\n",
    "index = 'TX.VAL.MRCH.CD.WT'\n",
    "merch_export_2023_top10_clean = clean_wb_df(merch_export_2023_top10, index)\n",
    "merch_export_2000_top10_clean = clean_wb_df(merch_export_2020_top10, index)"
   ]
  },
  {
   "cell_type": "code",
   "execution_count": 242,
   "metadata": {},
   "outputs": [
    {
     "data": {
      "text/html": [
       "<div>\n",
       "<style scoped>\n",
       "    .dataframe tbody tr th:only-of-type {\n",
       "        vertical-align: middle;\n",
       "    }\n",
       "\n",
       "    .dataframe tbody tr th {\n",
       "        vertical-align: top;\n",
       "    }\n",
       "\n",
       "    .dataframe thead th {\n",
       "        text-align: right;\n",
       "    }\n",
       "</style>\n",
       "<table border=\"1\" class=\"dataframe\">\n",
       "  <thead>\n",
       "    <tr style=\"text-align: right;\">\n",
       "      <th></th>\n",
       "      <th>Country</th>\n",
       "      <th>Year</th>\n",
       "      <th>Merchandise exports (current US$)</th>\n",
       "      <th>Rank2000</th>\n",
       "    </tr>\n",
       "  </thead>\n",
       "  <tbody>\n",
       "    <tr>\n",
       "      <th>0</th>\n",
       "      <td>United States</td>\n",
       "      <td>2000</td>\n",
       "      <td>7.819180e+11</td>\n",
       "      <td>1.0</td>\n",
       "    </tr>\n",
       "    <tr>\n",
       "      <th>1</th>\n",
       "      <td>Germany</td>\n",
       "      <td>2000</td>\n",
       "      <td>5.518100e+11</td>\n",
       "      <td>2.0</td>\n",
       "    </tr>\n",
       "    <tr>\n",
       "      <th>2</th>\n",
       "      <td>Japan</td>\n",
       "      <td>2000</td>\n",
       "      <td>4.792490e+11</td>\n",
       "      <td>3.0</td>\n",
       "    </tr>\n",
       "    <tr>\n",
       "      <th>3</th>\n",
       "      <td>France</td>\n",
       "      <td>2000</td>\n",
       "      <td>3.276110e+11</td>\n",
       "      <td>4.0</td>\n",
       "    </tr>\n",
       "    <tr>\n",
       "      <th>4</th>\n",
       "      <td>United Kingdom</td>\n",
       "      <td>2000</td>\n",
       "      <td>2.831730e+11</td>\n",
       "      <td>5.0</td>\n",
       "    </tr>\n",
       "    <tr>\n",
       "      <th>5</th>\n",
       "      <td>Canada</td>\n",
       "      <td>2000</td>\n",
       "      <td>2.766350e+11</td>\n",
       "      <td>6.0</td>\n",
       "    </tr>\n",
       "    <tr>\n",
       "      <th>6</th>\n",
       "      <td>China</td>\n",
       "      <td>2000</td>\n",
       "      <td>2.492030e+11</td>\n",
       "      <td>7.0</td>\n",
       "    </tr>\n",
       "    <tr>\n",
       "      <th>7</th>\n",
       "      <td>Italy</td>\n",
       "      <td>2000</td>\n",
       "      <td>2.405180e+11</td>\n",
       "      <td>8.0</td>\n",
       "    </tr>\n",
       "    <tr>\n",
       "      <th>8</th>\n",
       "      <td>Netherlands</td>\n",
       "      <td>2000</td>\n",
       "      <td>2.331300e+11</td>\n",
       "      <td>9.0</td>\n",
       "    </tr>\n",
       "    <tr>\n",
       "      <th>9</th>\n",
       "      <td>Hong Kong SAR, China</td>\n",
       "      <td>2000</td>\n",
       "      <td>2.026830e+11</td>\n",
       "      <td>10.0</td>\n",
       "    </tr>\n",
       "  </tbody>\n",
       "</table>\n",
       "</div>"
      ],
      "text/plain": [
       "                Country  Year  Merchandise exports (current US$)  Rank2000\n",
       "0         United States  2000                       7.819180e+11       1.0\n",
       "1               Germany  2000                       5.518100e+11       2.0\n",
       "2                 Japan  2000                       4.792490e+11       3.0\n",
       "3                France  2000                       3.276110e+11       4.0\n",
       "4        United Kingdom  2000                       2.831730e+11       5.0\n",
       "5                Canada  2000                       2.766350e+11       6.0\n",
       "6                 China  2000                       2.492030e+11       7.0\n",
       "7                 Italy  2000                       2.405180e+11       8.0\n",
       "8           Netherlands  2000                       2.331300e+11       9.0\n",
       "9  Hong Kong SAR, China  2000                       2.026830e+11      10.0"
      ]
     },
     "execution_count": 242,
     "metadata": {},
     "output_type": "execute_result"
    }
   ],
   "source": [
    "merch_export_2023_top10_clean = merch_export_2023_top10_clean.sort_values(\n",
    "    by='Merchandise exports (current US$)', ascending=False).reset_index(drop=True)\n",
    "\n",
    "merch_export_2023_top10_clean['Rank2023'] = merch_export_2023_top10_clean[\n",
    "    'Merchandise exports (current US$)'].rank(ascending=False)\n",
    "\n",
    "merch_export_2000_top10_clean = merch_export_2000_top10_clean.sort_values(\n",
    "    by='Merchandise exports (current US$)', ascending=False).reset_index(drop=True)\n",
    "\n",
    "merch_export_2000_top10_clean['Rank2000'] = merch_export_2000_top10_clean[\n",
    "    'Merchandise exports (current US$)'].rank(ascending=False)\n",
    "merch_export_2000_top10_clean"
   ]
  },
  {
   "cell_type": "code",
   "execution_count": 255,
   "metadata": {},
   "outputs": [
    {
     "data": {
      "text/html": [
       "<div>\n",
       "<style scoped>\n",
       "    .dataframe tbody tr th:only-of-type {\n",
       "        vertical-align: middle;\n",
       "    }\n",
       "\n",
       "    .dataframe tbody tr th {\n",
       "        vertical-align: top;\n",
       "    }\n",
       "\n",
       "    .dataframe thead th {\n",
       "        text-align: right;\n",
       "    }\n",
       "</style>\n",
       "<table border=\"1\" class=\"dataframe\">\n",
       "  <thead>\n",
       "    <tr style=\"text-align: right;\">\n",
       "      <th></th>\n",
       "      <th>Country</th>\n",
       "      <th>Year</th>\n",
       "      <th>Merchandise exports (current US$)</th>\n",
       "      <th>Rank2023</th>\n",
       "    </tr>\n",
       "  </thead>\n",
       "  <tbody>\n",
       "    <tr>\n",
       "      <th>0</th>\n",
       "      <td>China</td>\n",
       "      <td>2023</td>\n",
       "      <td>3.380024e+12</td>\n",
       "      <td>1.0</td>\n",
       "    </tr>\n",
       "    <tr>\n",
       "      <th>1</th>\n",
       "      <td>United States</td>\n",
       "      <td>2023</td>\n",
       "      <td>2.019542e+12</td>\n",
       "      <td>2.0</td>\n",
       "    </tr>\n",
       "    <tr>\n",
       "      <th>2</th>\n",
       "      <td>Germany</td>\n",
       "      <td>2023</td>\n",
       "      <td>1.688419e+12</td>\n",
       "      <td>3.0</td>\n",
       "    </tr>\n",
       "    <tr>\n",
       "      <th>3</th>\n",
       "      <td>Netherlands</td>\n",
       "      <td>2023</td>\n",
       "      <td>9.345680e+11</td>\n",
       "      <td>4.0</td>\n",
       "    </tr>\n",
       "    <tr>\n",
       "      <th>4</th>\n",
       "      <td>Japan</td>\n",
       "      <td>2023</td>\n",
       "      <td>7.173150e+11</td>\n",
       "      <td>5.0</td>\n",
       "    </tr>\n",
       "    <tr>\n",
       "      <th>5</th>\n",
       "      <td>Italy</td>\n",
       "      <td>2023</td>\n",
       "      <td>6.769630e+11</td>\n",
       "      <td>6.0</td>\n",
       "    </tr>\n",
       "    <tr>\n",
       "      <th>6</th>\n",
       "      <td>France</td>\n",
       "      <td>2023</td>\n",
       "      <td>6.484810e+11</td>\n",
       "      <td>7.0</td>\n",
       "    </tr>\n",
       "    <tr>\n",
       "      <th>7</th>\n",
       "      <td>Korea, Rep.</td>\n",
       "      <td>2023</td>\n",
       "      <td>6.322260e+11</td>\n",
       "      <td>8.0</td>\n",
       "    </tr>\n",
       "    <tr>\n",
       "      <th>8</th>\n",
       "      <td>Mexico</td>\n",
       "      <td>2023</td>\n",
       "      <td>5.930120e+11</td>\n",
       "      <td>9.0</td>\n",
       "    </tr>\n",
       "    <tr>\n",
       "      <th>9</th>\n",
       "      <td>Hong Kong SAR, China</td>\n",
       "      <td>2023</td>\n",
       "      <td>5.738710e+11</td>\n",
       "      <td>10.0</td>\n",
       "    </tr>\n",
       "  </tbody>\n",
       "</table>\n",
       "</div>"
      ],
      "text/plain": [
       "                Country  Year  Merchandise exports (current US$)  Rank2023\n",
       "0                 China  2023                       3.380024e+12       1.0\n",
       "1         United States  2023                       2.019542e+12       2.0\n",
       "2               Germany  2023                       1.688419e+12       3.0\n",
       "3           Netherlands  2023                       9.345680e+11       4.0\n",
       "4                 Japan  2023                       7.173150e+11       5.0\n",
       "5                 Italy  2023                       6.769630e+11       6.0\n",
       "6                France  2023                       6.484810e+11       7.0\n",
       "7           Korea, Rep.  2023                       6.322260e+11       8.0\n",
       "8                Mexico  2023                       5.930120e+11       9.0\n",
       "9  Hong Kong SAR, China  2023                       5.738710e+11      10.0"
      ]
     },
     "execution_count": 255,
     "metadata": {},
     "output_type": "execute_result"
    }
   ],
   "source": [
    "merch_export_2023_top10_clean"
   ]
  },
  {
   "cell_type": "code",
   "execution_count": 258,
   "metadata": {},
   "outputs": [
    {
     "data": {
      "text/html": [
       "<div>\n",
       "<style scoped>\n",
       "    .dataframe tbody tr th:only-of-type {\n",
       "        vertical-align: middle;\n",
       "    }\n",
       "\n",
       "    .dataframe tbody tr th {\n",
       "        vertical-align: top;\n",
       "    }\n",
       "\n",
       "    .dataframe thead th {\n",
       "        text-align: right;\n",
       "    }\n",
       "</style>\n",
       "<table border=\"1\" class=\"dataframe\">\n",
       "  <thead>\n",
       "    <tr style=\"text-align: right;\">\n",
       "      <th></th>\n",
       "      <th>Country</th>\n",
       "      <th>Year</th>\n",
       "      <th>Merchandise exports (current US$)</th>\n",
       "      <th>Rank2000</th>\n",
       "      <th>Rank2023</th>\n",
       "    </tr>\n",
       "  </thead>\n",
       "  <tbody>\n",
       "    <tr>\n",
       "      <th>0</th>\n",
       "      <td>United States</td>\n",
       "      <td>2000</td>\n",
       "      <td>7.819180e+11</td>\n",
       "      <td>1.0</td>\n",
       "      <td>NaN</td>\n",
       "    </tr>\n",
       "    <tr>\n",
       "      <th>1</th>\n",
       "      <td>Germany</td>\n",
       "      <td>2000</td>\n",
       "      <td>5.518100e+11</td>\n",
       "      <td>2.0</td>\n",
       "      <td>NaN</td>\n",
       "    </tr>\n",
       "  </tbody>\n",
       "</table>\n",
       "</div>"
      ],
      "text/plain": [
       "         Country  Year  Merchandise exports (current US$)  Rank2000  Rank2023\n",
       "0  United States  2000                       7.819180e+11       1.0       NaN\n",
       "1        Germany  2000                       5.518100e+11       2.0       NaN"
      ]
     },
     "execution_count": 258,
     "metadata": {},
     "output_type": "execute_result"
    }
   ],
   "source": [
    "merged_df[:2]"
   ]
  },
  {
   "cell_type": "code",
   "execution_count": 262,
   "metadata": {},
   "outputs": [
    {
     "data": {
      "text/html": [
       "<div>\n",
       "<style scoped>\n",
       "    .dataframe tbody tr th:only-of-type {\n",
       "        vertical-align: middle;\n",
       "    }\n",
       "\n",
       "    .dataframe tbody tr th {\n",
       "        vertical-align: top;\n",
       "    }\n",
       "\n",
       "    .dataframe thead th {\n",
       "        text-align: right;\n",
       "    }\n",
       "</style>\n",
       "<table border=\"1\" class=\"dataframe\">\n",
       "  <thead>\n",
       "    <tr style=\"text-align: right;\">\n",
       "      <th></th>\n",
       "      <th>economy</th>\n",
       "      <th>time</th>\n",
       "      <th>Country</th>\n",
       "      <th>Time</th>\n",
       "      <th>TX.VAL.MRCH.CD.WT</th>\n",
       "    </tr>\n",
       "  </thead>\n",
       "  <tbody>\n",
       "    <tr>\n",
       "      <th>397</th>\n",
       "      <td>WLD</td>\n",
       "      <td>YR2023</td>\n",
       "      <td>World</td>\n",
       "      <td>2023</td>\n",
       "      <td>2.390041e+13</td>\n",
       "    </tr>\n",
       "    <tr>\n",
       "      <th>398</th>\n",
       "      <td>WLD</td>\n",
       "      <td>YR2000</td>\n",
       "      <td>World</td>\n",
       "      <td>2000</td>\n",
       "      <td>6.487104e+12</td>\n",
       "    </tr>\n",
       "  </tbody>\n",
       "</table>\n",
       "</div>"
      ],
      "text/plain": [
       "    economy    time Country  Time  TX.VAL.MRCH.CD.WT\n",
       "397     WLD  YR2023   World  2023       2.390041e+13\n",
       "398     WLD  YR2000   World  2000       6.487104e+12"
      ]
     },
     "execution_count": 262,
     "metadata": {},
     "output_type": "execute_result"
    }
   ],
   "source": [
    "world"
   ]
  },
  {
   "cell_type": "code",
   "execution_count": 273,
   "metadata": {},
   "outputs": [
    {
     "data": {
      "text/html": [
       "<div>\n",
       "<style scoped>\n",
       "    .dataframe tbody tr th:only-of-type {\n",
       "        vertical-align: middle;\n",
       "    }\n",
       "\n",
       "    .dataframe tbody tr th {\n",
       "        vertical-align: top;\n",
       "    }\n",
       "\n",
       "    .dataframe thead th {\n",
       "        text-align: right;\n",
       "    }\n",
       "</style>\n",
       "<table border=\"1\" class=\"dataframe\">\n",
       "  <thead>\n",
       "    <tr style=\"text-align: right;\">\n",
       "      <th></th>\n",
       "      <th>Country</th>\n",
       "      <th>Year</th>\n",
       "      <th>Merchandise exports (current US$)</th>\n",
       "      <th>% of global merch exports</th>\n",
       "    </tr>\n",
       "  </thead>\n",
       "  <tbody>\n",
       "    <tr>\n",
       "      <th>0</th>\n",
       "      <td>China</td>\n",
       "      <td>2023</td>\n",
       "      <td>3.380024e+12</td>\n",
       "      <td>0.141421</td>\n",
       "    </tr>\n",
       "    <tr>\n",
       "      <th>1</th>\n",
       "      <td>United States</td>\n",
       "      <td>2023</td>\n",
       "      <td>2.019542e+12</td>\n",
       "      <td>0.084498</td>\n",
       "    </tr>\n",
       "    <tr>\n",
       "      <th>2</th>\n",
       "      <td>Germany</td>\n",
       "      <td>2023</td>\n",
       "      <td>1.688419e+12</td>\n",
       "      <td>0.070644</td>\n",
       "    </tr>\n",
       "    <tr>\n",
       "      <th>3</th>\n",
       "      <td>Netherlands</td>\n",
       "      <td>2023</td>\n",
       "      <td>9.345680e+11</td>\n",
       "      <td>0.039103</td>\n",
       "    </tr>\n",
       "    <tr>\n",
       "      <th>4</th>\n",
       "      <td>Japan</td>\n",
       "      <td>2023</td>\n",
       "      <td>7.173150e+11</td>\n",
       "      <td>0.030013</td>\n",
       "    </tr>\n",
       "    <tr>\n",
       "      <th>5</th>\n",
       "      <td>Italy</td>\n",
       "      <td>2023</td>\n",
       "      <td>6.769630e+11</td>\n",
       "      <td>0.028324</td>\n",
       "    </tr>\n",
       "    <tr>\n",
       "      <th>6</th>\n",
       "      <td>France</td>\n",
       "      <td>2023</td>\n",
       "      <td>6.484810e+11</td>\n",
       "      <td>0.027133</td>\n",
       "    </tr>\n",
       "    <tr>\n",
       "      <th>7</th>\n",
       "      <td>Korea, Rep.</td>\n",
       "      <td>2023</td>\n",
       "      <td>6.322260e+11</td>\n",
       "      <td>0.026453</td>\n",
       "    </tr>\n",
       "    <tr>\n",
       "      <th>8</th>\n",
       "      <td>Mexico</td>\n",
       "      <td>2023</td>\n",
       "      <td>5.930120e+11</td>\n",
       "      <td>0.024812</td>\n",
       "    </tr>\n",
       "    <tr>\n",
       "      <th>9</th>\n",
       "      <td>Hong Kong SAR, China</td>\n",
       "      <td>2023</td>\n",
       "      <td>5.738710e+11</td>\n",
       "      <td>0.024011</td>\n",
       "    </tr>\n",
       "    <tr>\n",
       "      <th>10</th>\n",
       "      <td>United States</td>\n",
       "      <td>2000</td>\n",
       "      <td>7.819180e+11</td>\n",
       "      <td>0.120534</td>\n",
       "    </tr>\n",
       "    <tr>\n",
       "      <th>11</th>\n",
       "      <td>Germany</td>\n",
       "      <td>2000</td>\n",
       "      <td>5.518100e+11</td>\n",
       "      <td>0.085063</td>\n",
       "    </tr>\n",
       "    <tr>\n",
       "      <th>12</th>\n",
       "      <td>Japan</td>\n",
       "      <td>2000</td>\n",
       "      <td>4.792490e+11</td>\n",
       "      <td>0.073877</td>\n",
       "    </tr>\n",
       "    <tr>\n",
       "      <th>13</th>\n",
       "      <td>France</td>\n",
       "      <td>2000</td>\n",
       "      <td>3.276110e+11</td>\n",
       "      <td>0.050502</td>\n",
       "    </tr>\n",
       "    <tr>\n",
       "      <th>14</th>\n",
       "      <td>United Kingdom</td>\n",
       "      <td>2000</td>\n",
       "      <td>2.831730e+11</td>\n",
       "      <td>0.043652</td>\n",
       "    </tr>\n",
       "    <tr>\n",
       "      <th>15</th>\n",
       "      <td>Canada</td>\n",
       "      <td>2000</td>\n",
       "      <td>2.766350e+11</td>\n",
       "      <td>0.042644</td>\n",
       "    </tr>\n",
       "    <tr>\n",
       "      <th>16</th>\n",
       "      <td>China</td>\n",
       "      <td>2000</td>\n",
       "      <td>2.492030e+11</td>\n",
       "      <td>0.038415</td>\n",
       "    </tr>\n",
       "    <tr>\n",
       "      <th>17</th>\n",
       "      <td>Italy</td>\n",
       "      <td>2000</td>\n",
       "      <td>2.405180e+11</td>\n",
       "      <td>0.037076</td>\n",
       "    </tr>\n",
       "    <tr>\n",
       "      <th>18</th>\n",
       "      <td>Netherlands</td>\n",
       "      <td>2000</td>\n",
       "      <td>2.331300e+11</td>\n",
       "      <td>0.035937</td>\n",
       "    </tr>\n",
       "    <tr>\n",
       "      <th>19</th>\n",
       "      <td>Hong Kong SAR, China</td>\n",
       "      <td>2000</td>\n",
       "      <td>2.026830e+11</td>\n",
       "      <td>0.031244</td>\n",
       "    </tr>\n",
       "  </tbody>\n",
       "</table>\n",
       "</div>"
      ],
      "text/plain": [
       "                 Country  Year  Merchandise exports (current US$)  \\\n",
       "0                  China  2023                       3.380024e+12   \n",
       "1          United States  2023                       2.019542e+12   \n",
       "2                Germany  2023                       1.688419e+12   \n",
       "3            Netherlands  2023                       9.345680e+11   \n",
       "4                  Japan  2023                       7.173150e+11   \n",
       "5                  Italy  2023                       6.769630e+11   \n",
       "6                 France  2023                       6.484810e+11   \n",
       "7            Korea, Rep.  2023                       6.322260e+11   \n",
       "8                 Mexico  2023                       5.930120e+11   \n",
       "9   Hong Kong SAR, China  2023                       5.738710e+11   \n",
       "10         United States  2000                       7.819180e+11   \n",
       "11               Germany  2000                       5.518100e+11   \n",
       "12                 Japan  2000                       4.792490e+11   \n",
       "13                France  2000                       3.276110e+11   \n",
       "14        United Kingdom  2000                       2.831730e+11   \n",
       "15                Canada  2000                       2.766350e+11   \n",
       "16                 China  2000                       2.492030e+11   \n",
       "17                 Italy  2000                       2.405180e+11   \n",
       "18           Netherlands  2000                       2.331300e+11   \n",
       "19  Hong Kong SAR, China  2000                       2.026830e+11   \n",
       "\n",
       "    % of global merch exports  \n",
       "0                    0.141421  \n",
       "1                    0.084498  \n",
       "2                    0.070644  \n",
       "3                    0.039103  \n",
       "4                    0.030013  \n",
       "5                    0.028324  \n",
       "6                    0.027133  \n",
       "7                    0.026453  \n",
       "8                    0.024812  \n",
       "9                    0.024011  \n",
       "10                   0.120534  \n",
       "11                   0.085063  \n",
       "12                   0.073877  \n",
       "13                   0.050502  \n",
       "14                   0.043652  \n",
       "15                   0.042644  \n",
       "16                   0.038415  \n",
       "17                   0.037076  \n",
       "18                   0.035937  \n",
       "19                   0.031244  "
      ]
     },
     "execution_count": 273,
     "metadata": {},
     "output_type": "execute_result"
    }
   ],
   "source": [
    "# world = df[df['Country'] == 'World']\n",
    "# merged_world = world[['Time', 'TX.VAL.MRCH.CD.WT']].merge(merged_df, how='inner', left_on='Time', right_on='Year')\n",
    "# merged_world.drop(columns=['Time', 'Rank2000', 'Rank2023'], inplace=True)\n",
    "# merged_world['% of global merch exports'] = merged_world[\n",
    "#     'Merchandise exports (current US$)'] / merged_world['TX.VAL.MRCH.CD.WT']\n",
    "\n",
    "# merged_world.drop(columns='TX.VAL.MRCH.CD.WT', inplace=True)\n",
    "merged_world"
   ]
  },
  {
   "cell_type": "code",
   "execution_count": 282,
   "metadata": {},
   "outputs": [],
   "source": [
    "merch_2000 = merged_world[merged_world['Year'] == '2000']\n",
    "merch_2023 = merged_world[merged_world['Year'] == '2023']"
   ]
  },
  {
   "cell_type": "code",
   "execution_count": 299,
   "metadata": {},
   "outputs": [],
   "source": [
    "merch_2000.columns = [\n",
    "    'Country', 'Year', 'MerchEX (current US$) 2000',\n",
    "    '% of global merch exports 2000'\n",
    "]\n",
    "\n",
    "merch_2023.columns = [\n",
    "    'Country', 'Year', 'MerchEX (current US$) 2023',\n",
    "    '% of global merch exports 2023'\n",
    "]"
   ]
  },
  {
   "cell_type": "code",
   "execution_count": 303,
   "metadata": {},
   "outputs": [
    {
     "data": {
      "text/html": [
       "<div>\n",
       "<style scoped>\n",
       "    .dataframe tbody tr th:only-of-type {\n",
       "        vertical-align: middle;\n",
       "    }\n",
       "\n",
       "    .dataframe tbody tr th {\n",
       "        vertical-align: top;\n",
       "    }\n",
       "\n",
       "    .dataframe thead th {\n",
       "        text-align: right;\n",
       "    }\n",
       "</style>\n",
       "<table border=\"1\" class=\"dataframe\">\n",
       "  <thead>\n",
       "    <tr style=\"text-align: right;\">\n",
       "      <th></th>\n",
       "      <th>Country</th>\n",
       "      <th>Year</th>\n",
       "      <th>MerchEX (current US$) 2000</th>\n",
       "      <th>% of global merch exports 2000</th>\n",
       "      <th>MerchEX (current US$) 2023</th>\n",
       "      <th>% of global merch exports 2023</th>\n",
       "    </tr>\n",
       "  </thead>\n",
       "  <tbody>\n",
       "    <tr>\n",
       "      <th>0</th>\n",
       "      <td>United States</td>\n",
       "      <td>2000</td>\n",
       "      <td>7.819180e+11</td>\n",
       "      <td>0.120534</td>\n",
       "      <td>2.019542e+12</td>\n",
       "      <td>0.084498</td>\n",
       "    </tr>\n",
       "    <tr>\n",
       "      <th>1</th>\n",
       "      <td>Germany</td>\n",
       "      <td>2000</td>\n",
       "      <td>5.518100e+11</td>\n",
       "      <td>0.085063</td>\n",
       "      <td>1.688419e+12</td>\n",
       "      <td>0.070644</td>\n",
       "    </tr>\n",
       "    <tr>\n",
       "      <th>2</th>\n",
       "      <td>Japan</td>\n",
       "      <td>2000</td>\n",
       "      <td>4.792490e+11</td>\n",
       "      <td>0.073877</td>\n",
       "      <td>7.173150e+11</td>\n",
       "      <td>0.030013</td>\n",
       "    </tr>\n",
       "    <tr>\n",
       "      <th>3</th>\n",
       "      <td>France</td>\n",
       "      <td>2000</td>\n",
       "      <td>3.276110e+11</td>\n",
       "      <td>0.050502</td>\n",
       "      <td>6.484810e+11</td>\n",
       "      <td>0.027133</td>\n",
       "    </tr>\n",
       "    <tr>\n",
       "      <th>4</th>\n",
       "      <td>China</td>\n",
       "      <td>2000</td>\n",
       "      <td>2.492030e+11</td>\n",
       "      <td>0.038415</td>\n",
       "      <td>3.380024e+12</td>\n",
       "      <td>0.141421</td>\n",
       "    </tr>\n",
       "    <tr>\n",
       "      <th>5</th>\n",
       "      <td>Italy</td>\n",
       "      <td>2000</td>\n",
       "      <td>2.405180e+11</td>\n",
       "      <td>0.037076</td>\n",
       "      <td>6.769630e+11</td>\n",
       "      <td>0.028324</td>\n",
       "    </tr>\n",
       "    <tr>\n",
       "      <th>6</th>\n",
       "      <td>Netherlands</td>\n",
       "      <td>2000</td>\n",
       "      <td>2.331300e+11</td>\n",
       "      <td>0.035937</td>\n",
       "      <td>9.345680e+11</td>\n",
       "      <td>0.039103</td>\n",
       "    </tr>\n",
       "    <tr>\n",
       "      <th>7</th>\n",
       "      <td>Hong Kong SAR, China</td>\n",
       "      <td>2000</td>\n",
       "      <td>2.026830e+11</td>\n",
       "      <td>0.031244</td>\n",
       "      <td>5.738710e+11</td>\n",
       "      <td>0.024011</td>\n",
       "    </tr>\n",
       "  </tbody>\n",
       "</table>\n",
       "</div>"
      ],
      "text/plain": [
       "                Country  Year  MerchEX (current US$) 2000  \\\n",
       "0         United States  2000                7.819180e+11   \n",
       "1               Germany  2000                5.518100e+11   \n",
       "2                 Japan  2000                4.792490e+11   \n",
       "3                France  2000                3.276110e+11   \n",
       "4                 China  2000                2.492030e+11   \n",
       "5                 Italy  2000                2.405180e+11   \n",
       "6           Netherlands  2000                2.331300e+11   \n",
       "7  Hong Kong SAR, China  2000                2.026830e+11   \n",
       "\n",
       "   % of global merch exports 2000  MerchEX (current US$) 2023  \\\n",
       "0                        0.120534                2.019542e+12   \n",
       "1                        0.085063                1.688419e+12   \n",
       "2                        0.073877                7.173150e+11   \n",
       "3                        0.050502                6.484810e+11   \n",
       "4                        0.038415                3.380024e+12   \n",
       "5                        0.037076                6.769630e+11   \n",
       "6                        0.035937                9.345680e+11   \n",
       "7                        0.031244                5.738710e+11   \n",
       "\n",
       "   % of global merch exports 2023  \n",
       "0                        0.084498  \n",
       "1                        0.070644  \n",
       "2                        0.030013  \n",
       "3                        0.027133  \n",
       "4                        0.141421  \n",
       "5                        0.028324  \n",
       "6                        0.039103  \n",
       "7                        0.024011  "
      ]
     },
     "execution_count": 303,
     "metadata": {},
     "output_type": "execute_result"
    }
   ],
   "source": [
    "merged_a = merch_2000.merge(merch_2023, how='inner', on='Country')\n",
    "merged_b = merged_a.drop(columns='Year_y')\n",
    "merged_c = merged_b.rename(columns={'Year_x': 'Year'})\n",
    "merged_c"
   ]
  },
  {
   "cell_type": "code",
   "execution_count": 304,
   "metadata": {},
   "outputs": [],
   "source": [
    "merged_c.to_csv('../Visualizations/D3/data/merch_share.csv',\n",
    "                    index=False)"
   ]
  }
 ],
 "metadata": {
  "kernelspec": {
   "display_name": "Python 3",
   "language": "python",
   "name": "python3"
  },
  "language_info": {
   "codemirror_mode": {
    "name": "ipython",
    "version": 3
   },
   "file_extension": ".py",
   "mimetype": "text/x-python",
   "name": "python",
   "nbconvert_exporter": "python",
   "pygments_lexer": "ipython3",
   "version": "3.12.5"
  }
 },
 "nbformat": 4,
 "nbformat_minor": 2
}
